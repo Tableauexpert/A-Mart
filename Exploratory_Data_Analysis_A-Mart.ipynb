{
 "cells": [
  {
   "cell_type": "markdown",
   "metadata": {
    "id": "-C6K1XvYu1xB"
   },
   "source": [
    "**PROBLEM STATEMENT**"
   ]
  },
  {
   "cell_type": "markdown",
   "metadata": {
    "id": "TTmqVXbduwHL"
   },
   "source": [
    "<p><br></p>\n",
    "<p>A-Mart is one of the famous e-commerce platforms that have multiple products listed on its website. Currently, &ldquo;A-Mart&rdquo;&nbsp; is doing well and they have a 100% target achieved from the previous financial year. In order to achieve the target for the next financial year one of the objectives is to target the current active customer behavior on the platform so that the company can strategize on generating revenue through selling the product &amp; advertising well. On the uber level, CXO wants to generate revenue via two methods.</p>\n",
    "<ol>\n",
    "    <li>\n",
    "        <p>Understand my customer base - who are my customers, get RFM - Recency, Frequency, Monetary - what are the distinct segments of customers &amp; what is their lifetime value</p>\n",
    "    </li>\n",
    "    <li>\n",
    "        <p>Depending on the customer&apos;s behavior - (1) schedule notifications at the right time w/ popular product categories and (2) control personalized discounts based on customers&apos; value and purchasing patterns</p>\n",
    "    </li>\n",
    "</ol>"
   ]
  },
  {
   "cell_type": "markdown",
   "metadata": {
    "id": "zYA7UbEh6BO6"
   },
   "source": [
    "## 1.0 Import the necessary libraries "
   ]
  },
  {
   "cell_type": "code",
   "execution_count": 4,
   "metadata": {
    "id": "7IDhhKP3rHdD"
   },
   "outputs": [],
   "source": [
    "# Libraries to help with reading and manipulating data\n",
    "import numpy as np\n",
    "import pandas as pd\n",
    "\n",
    "# Libraries to help with data visualization\n",
    "import seaborn as sns\n",
    "import matplotlib.pyplot as plt"
   ]
  },
  {
   "cell_type": "markdown",
   "metadata": {
    "id": "SyjQltTO6Om6"
   },
   "source": [
    "## 2.0 Import data "
   ]
  },
  {
   "cell_type": "code",
   "execution_count": 5,
   "metadata": {
    "colab": {
     "base_uri": "https://localhost:8080/",
     "height": 73,
     "resources": {
      "http://localhost:8080/nbextensions/google.colab/files.js": {
       "data": "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",
       "headers": [
        [
         "content-type",
         "application/javascript"
        ]
       ],
       "ok": true,
       "status": 200,
       "status_text": ""
      }
     }
    },
    "id": "JyEWeHH9xlgt",
    "outputId": "71624fee-4cf3-4d11-8ab9-c04154ef3cd0"
   },
   "outputs": [],
   "source": [
    "df = pd.read_csv('EDA.csv')"
   ]
  },
  {
   "cell_type": "markdown",
   "metadata": {
    "id": "8_Nc8Vwm0_gl"
   },
   "source": [
    "## 3.0 Descriptive Analysis"
   ]
  },
  {
   "cell_type": "markdown",
   "metadata": {
    "id": "3Hj5VWn21Zb8"
   },
   "source": [
    "#### 3.1 Display the First & Last 5 rows in order to check the data is imported properly"
   ]
  },
  {
   "cell_type": "code",
   "execution_count": 6,
   "metadata": {
    "colab": {
     "base_uri": "https://localhost:8080/",
     "height": 0
    },
    "id": "vvDw3daDxlyT",
    "outputId": "b2c43ef8-dfe8-41b6-89b3-22b61771f595"
   },
   "outputs": [
    {
     "data": {
      "text/html": [
       "<div>\n",
       "<style scoped>\n",
       "    .dataframe tbody tr th:only-of-type {\n",
       "        vertical-align: middle;\n",
       "    }\n",
       "\n",
       "    .dataframe tbody tr th {\n",
       "        vertical-align: top;\n",
       "    }\n",
       "\n",
       "    .dataframe thead th {\n",
       "        text-align: right;\n",
       "    }\n",
       "</style>\n",
       "<table border=\"1\" class=\"dataframe\">\n",
       "  <thead>\n",
       "    <tr style=\"text-align: right;\">\n",
       "      <th></th>\n",
       "      <th>CUSTOMER_ID</th>\n",
       "      <th>EMAIL_ID</th>\n",
       "      <th>FIRST_NAME</th>\n",
       "      <th>LAST_NAME</th>\n",
       "      <th>OCCUPATION</th>\n",
       "      <th>AGE</th>\n",
       "      <th>AGE_CATEGORY</th>\n",
       "      <th>TOTAL_ORDERS</th>\n",
       "      <th>REVENUE</th>\n",
       "      <th>AVERAGE_ORDER_VALUE</th>\n",
       "      <th>...</th>\n",
       "      <th>WEEK3_DAY16_DAY23_REVENUE</th>\n",
       "      <th>WEEK4_DAY24_DAY31_REVENUE</th>\n",
       "      <th>TIME_0000_0600_ORDERS</th>\n",
       "      <th>TIME_0601_1200_ORDERS</th>\n",
       "      <th>TIME_1200_1800_ORDERS</th>\n",
       "      <th>TIME_1801_2359_ORDERS</th>\n",
       "      <th>TIME_0000_0600_REVENUE</th>\n",
       "      <th>TIME_0601_1200_REVENUE</th>\n",
       "      <th>TIME_1200_1800_REVENUE</th>\n",
       "      <th>TIME_1801_2359_REVENUE</th>\n",
       "    </tr>\n",
       "  </thead>\n",
       "  <tbody>\n",
       "    <tr>\n",
       "      <th>0</th>\n",
       "      <td>2333</td>\n",
       "      <td>lisa10@example.net</td>\n",
       "      <td>Brian</td>\n",
       "      <td>Higgins</td>\n",
       "      <td>Student</td>\n",
       "      <td>25</td>\n",
       "      <td>20-29</td>\n",
       "      <td>61</td>\n",
       "      <td>34847.4</td>\n",
       "      <td>571.27</td>\n",
       "      <td>...</td>\n",
       "      <td>12946.20</td>\n",
       "      <td>8109.45</td>\n",
       "      <td>11</td>\n",
       "      <td>3</td>\n",
       "      <td>29</td>\n",
       "      <td>18</td>\n",
       "      <td>2293.90</td>\n",
       "      <td>1809.47</td>\n",
       "      <td>17749.00</td>\n",
       "      <td>12995.00</td>\n",
       "    </tr>\n",
       "    <tr>\n",
       "      <th>1</th>\n",
       "      <td>2334</td>\n",
       "      <td>jasonmacdonald@example.com</td>\n",
       "      <td>David</td>\n",
       "      <td>Adams</td>\n",
       "      <td>Blue-Collar</td>\n",
       "      <td>41</td>\n",
       "      <td>40-49</td>\n",
       "      <td>59</td>\n",
       "      <td>32487.0</td>\n",
       "      <td>550.63</td>\n",
       "      <td>...</td>\n",
       "      <td>9094.21</td>\n",
       "      <td>7755.92</td>\n",
       "      <td>7</td>\n",
       "      <td>36</td>\n",
       "      <td>15</td>\n",
       "      <td>1</td>\n",
       "      <td>1350.28</td>\n",
       "      <td>23832.80</td>\n",
       "      <td>6893.93</td>\n",
       "      <td>410.00</td>\n",
       "    </tr>\n",
       "    <tr>\n",
       "      <th>2</th>\n",
       "      <td>2335</td>\n",
       "      <td>richardsummers@example.com</td>\n",
       "      <td>Leslie</td>\n",
       "      <td>Jones</td>\n",
       "      <td>Clerical</td>\n",
       "      <td>38</td>\n",
       "      <td>30-39</td>\n",
       "      <td>53</td>\n",
       "      <td>24179.0</td>\n",
       "      <td>456.21</td>\n",
       "      <td>...</td>\n",
       "      <td>6431.97</td>\n",
       "      <td>3879.00</td>\n",
       "      <td>0</td>\n",
       "      <td>34</td>\n",
       "      <td>18</td>\n",
       "      <td>1</td>\n",
       "      <td>0.00</td>\n",
       "      <td>16031.00</td>\n",
       "      <td>7996.99</td>\n",
       "      <td>151.00</td>\n",
       "    </tr>\n",
       "    <tr>\n",
       "      <th>3</th>\n",
       "      <td>2336</td>\n",
       "      <td>elizabethroberson@example.net</td>\n",
       "      <td>Donald</td>\n",
       "      <td>Ayers</td>\n",
       "      <td>Student</td>\n",
       "      <td>18</td>\n",
       "      <td>19 &amp; below</td>\n",
       "      <td>84</td>\n",
       "      <td>18554.5</td>\n",
       "      <td>220.89</td>\n",
       "      <td>...</td>\n",
       "      <td>5609.60</td>\n",
       "      <td>5117.11</td>\n",
       "      <td>2</td>\n",
       "      <td>46</td>\n",
       "      <td>22</td>\n",
       "      <td>14</td>\n",
       "      <td>140.98</td>\n",
       "      <td>11795.40</td>\n",
       "      <td>4557.05</td>\n",
       "      <td>2061.06</td>\n",
       "    </tr>\n",
       "    <tr>\n",
       "      <th>4</th>\n",
       "      <td>2337</td>\n",
       "      <td>christina06@example.org</td>\n",
       "      <td>Jeremy</td>\n",
       "      <td>Williams</td>\n",
       "      <td>Student</td>\n",
       "      <td>19</td>\n",
       "      <td>19 &amp; below</td>\n",
       "      <td>26</td>\n",
       "      <td>16885.0</td>\n",
       "      <td>649.42</td>\n",
       "      <td>...</td>\n",
       "      <td>2265.46</td>\n",
       "      <td>8274.97</td>\n",
       "      <td>13</td>\n",
       "      <td>4</td>\n",
       "      <td>6</td>\n",
       "      <td>3</td>\n",
       "      <td>7700.24</td>\n",
       "      <td>1945.00</td>\n",
       "      <td>4751.96</td>\n",
       "      <td>2487.79</td>\n",
       "    </tr>\n",
       "  </tbody>\n",
       "</table>\n",
       "<p>5 rows × 46 columns</p>\n",
       "</div>"
      ],
      "text/plain": [
       "   CUSTOMER_ID                       EMAIL_ID FIRST_NAME LAST_NAME  \\\n",
       "0         2333             lisa10@example.net      Brian   Higgins   \n",
       "1         2334     jasonmacdonald@example.com      David     Adams   \n",
       "2         2335     richardsummers@example.com     Leslie     Jones   \n",
       "3         2336  elizabethroberson@example.net     Donald     Ayers   \n",
       "4         2337        christina06@example.org     Jeremy  Williams   \n",
       "\n",
       "    OCCUPATION  AGE AGE_CATEGORY  TOTAL_ORDERS  REVENUE  AVERAGE_ORDER_VALUE  \\\n",
       "0      Student   25        20-29            61  34847.4               571.27   \n",
       "1  Blue-Collar   41        40-49            59  32487.0               550.63   \n",
       "2     Clerical   38        30-39            53  24179.0               456.21   \n",
       "3      Student   18   19 & below            84  18554.5               220.89   \n",
       "4      Student   19   19 & below            26  16885.0               649.42   \n",
       "\n",
       "   ...  WEEK3_DAY16_DAY23_REVENUE  WEEK4_DAY24_DAY31_REVENUE  \\\n",
       "0  ...                   12946.20                    8109.45   \n",
       "1  ...                    9094.21                    7755.92   \n",
       "2  ...                    6431.97                    3879.00   \n",
       "3  ...                    5609.60                    5117.11   \n",
       "4  ...                    2265.46                    8274.97   \n",
       "\n",
       "  TIME_0000_0600_ORDERS TIME_0601_1200_ORDERS  TIME_1200_1800_ORDERS  \\\n",
       "0                    11                     3                     29   \n",
       "1                     7                    36                     15   \n",
       "2                     0                    34                     18   \n",
       "3                     2                    46                     22   \n",
       "4                    13                     4                      6   \n",
       "\n",
       "   TIME_1801_2359_ORDERS  TIME_0000_0600_REVENUE  TIME_0601_1200_REVENUE  \\\n",
       "0                     18                 2293.90                 1809.47   \n",
       "1                      1                 1350.28                23832.80   \n",
       "2                      1                    0.00                16031.00   \n",
       "3                     14                  140.98                11795.40   \n",
       "4                      3                 7700.24                 1945.00   \n",
       "\n",
       "   TIME_1200_1800_REVENUE  TIME_1801_2359_REVENUE  \n",
       "0                17749.00                12995.00  \n",
       "1                 6893.93                  410.00  \n",
       "2                 7996.99                  151.00  \n",
       "3                 4557.05                 2061.06  \n",
       "4                 4751.96                 2487.79  \n",
       "\n",
       "[5 rows x 46 columns]"
      ]
     },
     "execution_count": 6,
     "metadata": {},
     "output_type": "execute_result"
    }
   ],
   "source": [
    "df.head()"
   ]
  },
  {
   "cell_type": "code",
   "execution_count": 7,
   "metadata": {
    "colab": {
     "base_uri": "https://localhost:8080/",
     "height": 0
    },
    "id": "3mn_M_B9xmEP",
    "outputId": "dbfa9f58-1436-451e-b360-41dc4fb51240"
   },
   "outputs": [
    {
     "data": {
      "text/html": [
       "<div>\n",
       "<style scoped>\n",
       "    .dataframe tbody tr th:only-of-type {\n",
       "        vertical-align: middle;\n",
       "    }\n",
       "\n",
       "    .dataframe tbody tr th {\n",
       "        vertical-align: top;\n",
       "    }\n",
       "\n",
       "    .dataframe thead th {\n",
       "        text-align: right;\n",
       "    }\n",
       "</style>\n",
       "<table border=\"1\" class=\"dataframe\">\n",
       "  <thead>\n",
       "    <tr style=\"text-align: right;\">\n",
       "      <th></th>\n",
       "      <th>CUSTOMER_ID</th>\n",
       "      <th>EMAIL_ID</th>\n",
       "      <th>FIRST_NAME</th>\n",
       "      <th>LAST_NAME</th>\n",
       "      <th>OCCUPATION</th>\n",
       "      <th>AGE</th>\n",
       "      <th>AGE_CATEGORY</th>\n",
       "      <th>TOTAL_ORDERS</th>\n",
       "      <th>REVENUE</th>\n",
       "      <th>AVERAGE_ORDER_VALUE</th>\n",
       "      <th>...</th>\n",
       "      <th>WEEK3_DAY16_DAY23_REVENUE</th>\n",
       "      <th>WEEK4_DAY24_DAY31_REVENUE</th>\n",
       "      <th>TIME_0000_0600_ORDERS</th>\n",
       "      <th>TIME_0601_1200_ORDERS</th>\n",
       "      <th>TIME_1200_1800_ORDERS</th>\n",
       "      <th>TIME_1801_2359_ORDERS</th>\n",
       "      <th>TIME_0000_0600_REVENUE</th>\n",
       "      <th>TIME_0601_1200_REVENUE</th>\n",
       "      <th>TIME_1200_1800_REVENUE</th>\n",
       "      <th>TIME_1801_2359_REVENUE</th>\n",
       "    </tr>\n",
       "  </thead>\n",
       "  <tbody>\n",
       "    <tr>\n",
       "      <th>4995</th>\n",
       "      <td>251041</td>\n",
       "      <td>stevenwilson@example.org</td>\n",
       "      <td>Robert</td>\n",
       "      <td>Lee</td>\n",
       "      <td>Clerical</td>\n",
       "      <td>34</td>\n",
       "      <td>30-39</td>\n",
       "      <td>2</td>\n",
       "      <td>59.95</td>\n",
       "      <td>29.98</td>\n",
       "      <td>...</td>\n",
       "      <td>0.00</td>\n",
       "      <td>0.00</td>\n",
       "      <td>0</td>\n",
       "      <td>1</td>\n",
       "      <td>0</td>\n",
       "      <td>1</td>\n",
       "      <td>0.0</td>\n",
       "      <td>55.00</td>\n",
       "      <td>0.00</td>\n",
       "      <td>4.95</td>\n",
       "    </tr>\n",
       "    <tr>\n",
       "      <th>4996</th>\n",
       "      <td>251042</td>\n",
       "      <td>gallegosdebbie@example.net</td>\n",
       "      <td>Amanda</td>\n",
       "      <td>Harrison</td>\n",
       "      <td>Manager</td>\n",
       "      <td>48</td>\n",
       "      <td>40-49</td>\n",
       "      <td>2</td>\n",
       "      <td>59.94</td>\n",
       "      <td>29.97</td>\n",
       "      <td>...</td>\n",
       "      <td>0.00</td>\n",
       "      <td>54.99</td>\n",
       "      <td>0</td>\n",
       "      <td>0</td>\n",
       "      <td>1</td>\n",
       "      <td>1</td>\n",
       "      <td>0.0</td>\n",
       "      <td>0.00</td>\n",
       "      <td>54.99</td>\n",
       "      <td>4.95</td>\n",
       "    </tr>\n",
       "    <tr>\n",
       "      <th>4997</th>\n",
       "      <td>261374</td>\n",
       "      <td>melissa67@example.org</td>\n",
       "      <td>Jeffrey</td>\n",
       "      <td>Haynes</td>\n",
       "      <td>Student</td>\n",
       "      <td>25</td>\n",
       "      <td>20-29</td>\n",
       "      <td>2</td>\n",
       "      <td>51.94</td>\n",
       "      <td>25.97</td>\n",
       "      <td>...</td>\n",
       "      <td>46.99</td>\n",
       "      <td>0.00</td>\n",
       "      <td>0</td>\n",
       "      <td>1</td>\n",
       "      <td>0</td>\n",
       "      <td>1</td>\n",
       "      <td>0.0</td>\n",
       "      <td>4.95</td>\n",
       "      <td>0.00</td>\n",
       "      <td>46.99</td>\n",
       "    </tr>\n",
       "    <tr>\n",
       "      <th>4998</th>\n",
       "      <td>268356</td>\n",
       "      <td>lisaholland@example.net</td>\n",
       "      <td>Pamela</td>\n",
       "      <td>Flores</td>\n",
       "      <td>Doctor</td>\n",
       "      <td>51</td>\n",
       "      <td>50 and above</td>\n",
       "      <td>2</td>\n",
       "      <td>45.94</td>\n",
       "      <td>22.97</td>\n",
       "      <td>...</td>\n",
       "      <td>0.00</td>\n",
       "      <td>0.00</td>\n",
       "      <td>0</td>\n",
       "      <td>0</td>\n",
       "      <td>2</td>\n",
       "      <td>0</td>\n",
       "      <td>0.0</td>\n",
       "      <td>0.00</td>\n",
       "      <td>45.94</td>\n",
       "      <td>0.00</td>\n",
       "    </tr>\n",
       "    <tr>\n",
       "      <th>4999</th>\n",
       "      <td>279492</td>\n",
       "      <td>poolegregory@example.com</td>\n",
       "      <td>Lisa</td>\n",
       "      <td>Brown</td>\n",
       "      <td>Professional</td>\n",
       "      <td>41</td>\n",
       "      <td>40-49</td>\n",
       "      <td>3</td>\n",
       "      <td>38.50</td>\n",
       "      <td>12.83</td>\n",
       "      <td>...</td>\n",
       "      <td>9.90</td>\n",
       "      <td>28.60</td>\n",
       "      <td>0</td>\n",
       "      <td>0</td>\n",
       "      <td>3</td>\n",
       "      <td>0</td>\n",
       "      <td>0.0</td>\n",
       "      <td>0.00</td>\n",
       "      <td>38.50</td>\n",
       "      <td>0.00</td>\n",
       "    </tr>\n",
       "  </tbody>\n",
       "</table>\n",
       "<p>5 rows × 46 columns</p>\n",
       "</div>"
      ],
      "text/plain": [
       "      CUSTOMER_ID                    EMAIL_ID FIRST_NAME LAST_NAME  \\\n",
       "4995       251041    stevenwilson@example.org     Robert       Lee   \n",
       "4996       251042  gallegosdebbie@example.net     Amanda  Harrison   \n",
       "4997       261374       melissa67@example.org    Jeffrey    Haynes   \n",
       "4998       268356     lisaholland@example.net     Pamela    Flores   \n",
       "4999       279492    poolegregory@example.com       Lisa     Brown   \n",
       "\n",
       "        OCCUPATION  AGE  AGE_CATEGORY  TOTAL_ORDERS  REVENUE  \\\n",
       "4995      Clerical   34         30-39             2    59.95   \n",
       "4996       Manager   48         40-49             2    59.94   \n",
       "4997       Student   25         20-29             2    51.94   \n",
       "4998        Doctor   51  50 and above             2    45.94   \n",
       "4999  Professional   41         40-49             3    38.50   \n",
       "\n",
       "      AVERAGE_ORDER_VALUE  ...  WEEK3_DAY16_DAY23_REVENUE  \\\n",
       "4995                29.98  ...                       0.00   \n",
       "4996                29.97  ...                       0.00   \n",
       "4997                25.97  ...                      46.99   \n",
       "4998                22.97  ...                       0.00   \n",
       "4999                12.83  ...                       9.90   \n",
       "\n",
       "      WEEK4_DAY24_DAY31_REVENUE TIME_0000_0600_ORDERS TIME_0601_1200_ORDERS  \\\n",
       "4995                       0.00                     0                     1   \n",
       "4996                      54.99                     0                     0   \n",
       "4997                       0.00                     0                     1   \n",
       "4998                       0.00                     0                     0   \n",
       "4999                      28.60                     0                     0   \n",
       "\n",
       "      TIME_1200_1800_ORDERS  TIME_1801_2359_ORDERS  TIME_0000_0600_REVENUE  \\\n",
       "4995                      0                      1                     0.0   \n",
       "4996                      1                      1                     0.0   \n",
       "4997                      0                      1                     0.0   \n",
       "4998                      2                      0                     0.0   \n",
       "4999                      3                      0                     0.0   \n",
       "\n",
       "      TIME_0601_1200_REVENUE  TIME_1200_1800_REVENUE  TIME_1801_2359_REVENUE  \n",
       "4995                   55.00                    0.00                    4.95  \n",
       "4996                    0.00                   54.99                    4.95  \n",
       "4997                    4.95                    0.00                   46.99  \n",
       "4998                    0.00                   45.94                    0.00  \n",
       "4999                    0.00                   38.50                    0.00  \n",
       "\n",
       "[5 rows x 46 columns]"
      ]
     },
     "execution_count": 7,
     "metadata": {},
     "output_type": "execute_result"
    }
   ],
   "source": [
    "df.tail()"
   ]
  },
  {
   "cell_type": "markdown",
   "metadata": {
    "id": "YGAbhzob1r3R"
   },
   "source": [
    "#### 3.2 Check the shape of the data"
   ]
  },
  {
   "cell_type": "code",
   "execution_count": 8,
   "metadata": {
    "colab": {
     "base_uri": "https://localhost:8080/"
    },
    "id": "inNCX4hg1q8Z",
    "outputId": "585b206e-3b26-484c-c7d3-35539e4ad982"
   },
   "outputs": [
    {
     "data": {
      "text/plain": [
       "(5000, 46)"
      ]
     },
     "execution_count": 8,
     "metadata": {},
     "output_type": "execute_result"
    }
   ],
   "source": [
    "df.shape"
   ]
  },
  {
   "cell_type": "markdown",
   "metadata": {
    "id": "spoqTTfx54KB"
   },
   "source": [
    "#### 3.3. Check for duplicate entries in the data"
   ]
  },
  {
   "cell_type": "code",
   "execution_count": 9,
   "metadata": {
    "colab": {
     "base_uri": "https://localhost:8080/"
    },
    "id": "fqolNIxI2BSg",
    "outputId": "e898794c-d0c1-4502-d219-49f9b223f138"
   },
   "outputs": [
    {
     "data": {
      "text/plain": [
       "0"
      ]
     },
     "execution_count": 9,
     "metadata": {},
     "output_type": "execute_result"
    }
   ],
   "source": [
    "df.duplicated().sum()"
   ]
  },
  {
   "cell_type": "markdown",
   "metadata": {
    "id": "q63_cJv18s4n"
   },
   "source": [
    "The data which we have stored in the database seems to be cleaned, so the value is displayed as \"**0**\""
   ]
  },
  {
   "cell_type": "markdown",
   "metadata": {
    "id": "AwcwX9LJ9Exp"
   },
   "source": [
    "#### 3.4 Check the statistical summary of the data"
   ]
  },
  {
   "cell_type": "code",
   "execution_count": 10,
   "metadata": {
    "colab": {
     "base_uri": "https://localhost:8080/",
     "height": 0
    },
    "id": "PCYei36h2Gro",
    "outputId": "72e1681c-0c4a-4ac3-a0b3-551e36d5351e"
   },
   "outputs": [
    {
     "data": {
      "text/html": [
       "<div>\n",
       "<style scoped>\n",
       "    .dataframe tbody tr th:only-of-type {\n",
       "        vertical-align: middle;\n",
       "    }\n",
       "\n",
       "    .dataframe tbody tr th {\n",
       "        vertical-align: top;\n",
       "    }\n",
       "\n",
       "    .dataframe thead th {\n",
       "        text-align: right;\n",
       "    }\n",
       "</style>\n",
       "<table border=\"1\" class=\"dataframe\">\n",
       "  <thead>\n",
       "    <tr style=\"text-align: right;\">\n",
       "      <th></th>\n",
       "      <th>count</th>\n",
       "      <th>mean</th>\n",
       "      <th>std</th>\n",
       "      <th>min</th>\n",
       "      <th>25%</th>\n",
       "      <th>50%</th>\n",
       "      <th>75%</th>\n",
       "      <th>max</th>\n",
       "    </tr>\n",
       "  </thead>\n",
       "  <tbody>\n",
       "    <tr>\n",
       "      <th>CUSTOMER_ID</th>\n",
       "      <td>5000.0</td>\n",
       "      <td>43041.227800</td>\n",
       "      <td>49949.848017</td>\n",
       "      <td>2333.00</td>\n",
       "      <td>4019.5000</td>\n",
       "      <td>16097.000</td>\n",
       "      <td>74223.5000</td>\n",
       "      <td>279492.00</td>\n",
       "    </tr>\n",
       "    <tr>\n",
       "      <th>AGE</th>\n",
       "      <td>5000.0</td>\n",
       "      <td>34.070800</td>\n",
       "      <td>12.635621</td>\n",
       "      <td>17.00</td>\n",
       "      <td>24.0000</td>\n",
       "      <td>30.000</td>\n",
       "      <td>44.0000</td>\n",
       "      <td>62.00</td>\n",
       "    </tr>\n",
       "    <tr>\n",
       "      <th>TOTAL_ORDERS</th>\n",
       "      <td>5000.0</td>\n",
       "      <td>12.870400</td>\n",
       "      <td>12.679880</td>\n",
       "      <td>1.00</td>\n",
       "      <td>3.0000</td>\n",
       "      <td>8.000</td>\n",
       "      <td>20.0000</td>\n",
       "      <td>156.00</td>\n",
       "    </tr>\n",
       "    <tr>\n",
       "      <th>REVENUE</th>\n",
       "      <td>5000.0</td>\n",
       "      <td>1681.523848</td>\n",
       "      <td>1998.618797</td>\n",
       "      <td>38.50</td>\n",
       "      <td>315.0975</td>\n",
       "      <td>966.725</td>\n",
       "      <td>2493.0725</td>\n",
       "      <td>34847.40</td>\n",
       "    </tr>\n",
       "    <tr>\n",
       "      <th>AVERAGE_ORDER_VALUE</th>\n",
       "      <td>5000.0</td>\n",
       "      <td>136.537378</td>\n",
       "      <td>91.651569</td>\n",
       "      <td>10.68</td>\n",
       "      <td>83.0250</td>\n",
       "      <td>113.160</td>\n",
       "      <td>160.2725</td>\n",
       "      <td>1578.88</td>\n",
       "    </tr>\n",
       "    <tr>\n",
       "      <th>CARRIAGE_REVENUE</th>\n",
       "      <td>5000.0</td>\n",
       "      <td>46.036376</td>\n",
       "      <td>47.879226</td>\n",
       "      <td>0.00</td>\n",
       "      <td>9.9800</td>\n",
       "      <td>24.985</td>\n",
       "      <td>76.8625</td>\n",
       "      <td>529.59</td>\n",
       "    </tr>\n",
       "    <tr>\n",
       "      <th>AVERAGESHIPPING</th>\n",
       "      <td>5000.0</td>\n",
       "      <td>3.592574</td>\n",
       "      <td>2.021360</td>\n",
       "      <td>0.00</td>\n",
       "      <td>2.5000</td>\n",
       "      <td>3.660</td>\n",
       "      <td>4.7900</td>\n",
       "      <td>35.99</td>\n",
       "    </tr>\n",
       "    <tr>\n",
       "      <th>AVGDAYSBETWEENORDERS</th>\n",
       "      <td>5000.0</td>\n",
       "      <td>163.159618</td>\n",
       "      <td>259.699496</td>\n",
       "      <td>0.00</td>\n",
       "      <td>21.6700</td>\n",
       "      <td>57.635</td>\n",
       "      <td>170.3575</td>\n",
       "      <td>1409.50</td>\n",
       "    </tr>\n",
       "    <tr>\n",
       "      <th>DAYSSINCELASTORDER</th>\n",
       "      <td>5000.0</td>\n",
       "      <td>87.420000</td>\n",
       "      <td>80.156513</td>\n",
       "      <td>1.00</td>\n",
       "      <td>7.0000</td>\n",
       "      <td>68.000</td>\n",
       "      <td>171.2500</td>\n",
       "      <td>207.00</td>\n",
       "    </tr>\n",
       "    <tr>\n",
       "      <th>MONDAY_ORDERS</th>\n",
       "      <td>5000.0</td>\n",
       "      <td>1.629000</td>\n",
       "      <td>2.236506</td>\n",
       "      <td>0.00</td>\n",
       "      <td>0.0000</td>\n",
       "      <td>1.000</td>\n",
       "      <td>2.0000</td>\n",
       "      <td>19.00</td>\n",
       "    </tr>\n",
       "    <tr>\n",
       "      <th>TUESDAY_ORDERS</th>\n",
       "      <td>5000.0</td>\n",
       "      <td>1.754400</td>\n",
       "      <td>2.433940</td>\n",
       "      <td>0.00</td>\n",
       "      <td>0.0000</td>\n",
       "      <td>1.000</td>\n",
       "      <td>3.0000</td>\n",
       "      <td>23.00</td>\n",
       "    </tr>\n",
       "    <tr>\n",
       "      <th>WEDNESDAY_ORDERS</th>\n",
       "      <td>5000.0</td>\n",
       "      <td>1.798000</td>\n",
       "      <td>2.464875</td>\n",
       "      <td>0.00</td>\n",
       "      <td>0.0000</td>\n",
       "      <td>1.000</td>\n",
       "      <td>3.0000</td>\n",
       "      <td>29.00</td>\n",
       "    </tr>\n",
       "    <tr>\n",
       "      <th>THURSDAY_ORDERS</th>\n",
       "      <td>5000.0</td>\n",
       "      <td>2.134000</td>\n",
       "      <td>2.468048</td>\n",
       "      <td>0.00</td>\n",
       "      <td>0.0000</td>\n",
       "      <td>1.000</td>\n",
       "      <td>3.0000</td>\n",
       "      <td>32.00</td>\n",
       "    </tr>\n",
       "    <tr>\n",
       "      <th>FRIDAY_ORDERS</th>\n",
       "      <td>5000.0</td>\n",
       "      <td>1.946200</td>\n",
       "      <td>2.652680</td>\n",
       "      <td>0.00</td>\n",
       "      <td>0.0000</td>\n",
       "      <td>1.000</td>\n",
       "      <td>3.0000</td>\n",
       "      <td>26.00</td>\n",
       "    </tr>\n",
       "    <tr>\n",
       "      <th>SATURDAY_ORDERS</th>\n",
       "      <td>5000.0</td>\n",
       "      <td>1.683400</td>\n",
       "      <td>2.449972</td>\n",
       "      <td>0.00</td>\n",
       "      <td>0.0000</td>\n",
       "      <td>1.000</td>\n",
       "      <td>3.0000</td>\n",
       "      <td>31.00</td>\n",
       "    </tr>\n",
       "    <tr>\n",
       "      <th>SUNDAY_ORDERS</th>\n",
       "      <td>5000.0</td>\n",
       "      <td>1.925400</td>\n",
       "      <td>2.315018</td>\n",
       "      <td>0.00</td>\n",
       "      <td>0.0000</td>\n",
       "      <td>1.000</td>\n",
       "      <td>3.0000</td>\n",
       "      <td>23.00</td>\n",
       "    </tr>\n",
       "    <tr>\n",
       "      <th>MONDAY_REVENUE</th>\n",
       "      <td>5000.0</td>\n",
       "      <td>215.208334</td>\n",
       "      <td>397.831935</td>\n",
       "      <td>0.00</td>\n",
       "      <td>0.0000</td>\n",
       "      <td>74.990</td>\n",
       "      <td>286.8650</td>\n",
       "      <td>12819.40</td>\n",
       "    </tr>\n",
       "    <tr>\n",
       "      <th>TUESDAY_REVENUE</th>\n",
       "      <td>5000.0</td>\n",
       "      <td>233.510430</td>\n",
       "      <td>411.941787</td>\n",
       "      <td>0.00</td>\n",
       "      <td>0.0000</td>\n",
       "      <td>75.990</td>\n",
       "      <td>310.9725</td>\n",
       "      <td>7853.92</td>\n",
       "    </tr>\n",
       "    <tr>\n",
       "      <th>WEDNESDAY_REVENUE</th>\n",
       "      <td>5000.0</td>\n",
       "      <td>235.689294</td>\n",
       "      <td>397.858311</td>\n",
       "      <td>0.00</td>\n",
       "      <td>0.0000</td>\n",
       "      <td>80.990</td>\n",
       "      <td>319.9925</td>\n",
       "      <td>5877.44</td>\n",
       "    </tr>\n",
       "    <tr>\n",
       "      <th>THURSDAY_REVENUE</th>\n",
       "      <td>5000.0</td>\n",
       "      <td>265.949796</td>\n",
       "      <td>383.890024</td>\n",
       "      <td>0.00</td>\n",
       "      <td>0.0000</td>\n",
       "      <td>144.590</td>\n",
       "      <td>344.3575</td>\n",
       "      <td>6434.95</td>\n",
       "    </tr>\n",
       "    <tr>\n",
       "      <th>FRIDAY_REVENUE</th>\n",
       "      <td>5000.0</td>\n",
       "      <td>250.580554</td>\n",
       "      <td>400.543113</td>\n",
       "      <td>0.00</td>\n",
       "      <td>0.0000</td>\n",
       "      <td>91.195</td>\n",
       "      <td>352.7400</td>\n",
       "      <td>6855.22</td>\n",
       "    </tr>\n",
       "    <tr>\n",
       "      <th>SATURDAY_REVENUE</th>\n",
       "      <td>5000.0</td>\n",
       "      <td>219.642100</td>\n",
       "      <td>376.139760</td>\n",
       "      <td>0.00</td>\n",
       "      <td>0.0000</td>\n",
       "      <td>62.415</td>\n",
       "      <td>297.2800</td>\n",
       "      <td>4642.97</td>\n",
       "    </tr>\n",
       "    <tr>\n",
       "      <th>SUNDAY_REVENUE</th>\n",
       "      <td>5000.0</td>\n",
       "      <td>260.943330</td>\n",
       "      <td>406.926075</td>\n",
       "      <td>0.00</td>\n",
       "      <td>0.0000</td>\n",
       "      <td>135.990</td>\n",
       "      <td>341.3675</td>\n",
       "      <td>8366.35</td>\n",
       "    </tr>\n",
       "    <tr>\n",
       "      <th>WEEK1_DAY01_DAY07_ORDERS</th>\n",
       "      <td>5000.0</td>\n",
       "      <td>2.997800</td>\n",
       "      <td>3.256980</td>\n",
       "      <td>0.00</td>\n",
       "      <td>1.0000</td>\n",
       "      <td>2.000</td>\n",
       "      <td>4.0000</td>\n",
       "      <td>32.00</td>\n",
       "    </tr>\n",
       "    <tr>\n",
       "      <th>WEEK2_DAY08_DAY15_ORDERS</th>\n",
       "      <td>5000.0</td>\n",
       "      <td>3.062600</td>\n",
       "      <td>3.792461</td>\n",
       "      <td>0.00</td>\n",
       "      <td>0.0000</td>\n",
       "      <td>2.000</td>\n",
       "      <td>5.0000</td>\n",
       "      <td>42.00</td>\n",
       "    </tr>\n",
       "    <tr>\n",
       "      <th>WEEK3_DAY16_DAY23_ORDERS</th>\n",
       "      <td>5000.0</td>\n",
       "      <td>3.230000</td>\n",
       "      <td>3.921043</td>\n",
       "      <td>0.00</td>\n",
       "      <td>0.0000</td>\n",
       "      <td>2.000</td>\n",
       "      <td>5.0000</td>\n",
       "      <td>37.00</td>\n",
       "    </tr>\n",
       "    <tr>\n",
       "      <th>WEEK4_DAY24_DAY31_ORDERS</th>\n",
       "      <td>5000.0</td>\n",
       "      <td>3.580000</td>\n",
       "      <td>3.970384</td>\n",
       "      <td>0.00</td>\n",
       "      <td>1.0000</td>\n",
       "      <td>2.000</td>\n",
       "      <td>5.0000</td>\n",
       "      <td>53.00</td>\n",
       "    </tr>\n",
       "    <tr>\n",
       "      <th>WEEK1_DAY01_DAY07_REVENUE</th>\n",
       "      <td>5000.0</td>\n",
       "      <td>378.638346</td>\n",
       "      <td>515.590218</td>\n",
       "      <td>0.00</td>\n",
       "      <td>63.9900</td>\n",
       "      <td>190.985</td>\n",
       "      <td>513.0125</td>\n",
       "      <td>8143.65</td>\n",
       "    </tr>\n",
       "    <tr>\n",
       "      <th>WEEK2_DAY08_DAY15_REVENUE</th>\n",
       "      <td>5000.0</td>\n",
       "      <td>406.595736</td>\n",
       "      <td>619.413312</td>\n",
       "      <td>0.00</td>\n",
       "      <td>0.0000</td>\n",
       "      <td>183.925</td>\n",
       "      <td>553.4625</td>\n",
       "      <td>11303.90</td>\n",
       "    </tr>\n",
       "    <tr>\n",
       "      <th>WEEK3_DAY16_DAY23_REVENUE</th>\n",
       "      <td>5000.0</td>\n",
       "      <td>421.826904</td>\n",
       "      <td>643.449042</td>\n",
       "      <td>0.00</td>\n",
       "      <td>0.0000</td>\n",
       "      <td>194.990</td>\n",
       "      <td>604.0850</td>\n",
       "      <td>12946.20</td>\n",
       "    </tr>\n",
       "    <tr>\n",
       "      <th>WEEK4_DAY24_DAY31_REVENUE</th>\n",
       "      <td>5000.0</td>\n",
       "      <td>474.462852</td>\n",
       "      <td>617.579321</td>\n",
       "      <td>0.00</td>\n",
       "      <td>80.0000</td>\n",
       "      <td>264.485</td>\n",
       "      <td>651.4875</td>\n",
       "      <td>8274.97</td>\n",
       "    </tr>\n",
       "    <tr>\n",
       "      <th>TIME_0000_0600_ORDERS</th>\n",
       "      <td>5000.0</td>\n",
       "      <td>1.028800</td>\n",
       "      <td>2.174331</td>\n",
       "      <td>0.00</td>\n",
       "      <td>0.0000</td>\n",
       "      <td>0.000</td>\n",
       "      <td>1.0000</td>\n",
       "      <td>34.00</td>\n",
       "    </tr>\n",
       "    <tr>\n",
       "      <th>TIME_0601_1200_ORDERS</th>\n",
       "      <td>5000.0</td>\n",
       "      <td>3.746200</td>\n",
       "      <td>4.700234</td>\n",
       "      <td>0.00</td>\n",
       "      <td>1.0000</td>\n",
       "      <td>2.000</td>\n",
       "      <td>6.0000</td>\n",
       "      <td>61.00</td>\n",
       "    </tr>\n",
       "    <tr>\n",
       "      <th>TIME_1200_1800_ORDERS</th>\n",
       "      <td>5000.0</td>\n",
       "      <td>4.434000</td>\n",
       "      <td>5.044793</td>\n",
       "      <td>0.00</td>\n",
       "      <td>1.0000</td>\n",
       "      <td>3.000</td>\n",
       "      <td>7.0000</td>\n",
       "      <td>58.00</td>\n",
       "    </tr>\n",
       "    <tr>\n",
       "      <th>TIME_1801_2359_ORDERS</th>\n",
       "      <td>5000.0</td>\n",
       "      <td>3.661400</td>\n",
       "      <td>4.581894</td>\n",
       "      <td>0.00</td>\n",
       "      <td>1.0000</td>\n",
       "      <td>2.000</td>\n",
       "      <td>5.0000</td>\n",
       "      <td>64.00</td>\n",
       "    </tr>\n",
       "    <tr>\n",
       "      <th>TIME_0000_0600_REVENUE</th>\n",
       "      <td>5000.0</td>\n",
       "      <td>131.062636</td>\n",
       "      <td>331.289349</td>\n",
       "      <td>0.00</td>\n",
       "      <td>0.0000</td>\n",
       "      <td>0.000</td>\n",
       "      <td>131.2825</td>\n",
       "      <td>7700.24</td>\n",
       "    </tr>\n",
       "    <tr>\n",
       "      <th>TIME_0601_1200_REVENUE</th>\n",
       "      <td>5000.0</td>\n",
       "      <td>486.863878</td>\n",
       "      <td>789.030168</td>\n",
       "      <td>0.00</td>\n",
       "      <td>35.0000</td>\n",
       "      <td>236.440</td>\n",
       "      <td>661.9525</td>\n",
       "      <td>23832.80</td>\n",
       "    </tr>\n",
       "    <tr>\n",
       "      <th>TIME_1200_1800_REVENUE</th>\n",
       "      <td>5000.0</td>\n",
       "      <td>584.731624</td>\n",
       "      <td>804.289983</td>\n",
       "      <td>0.00</td>\n",
       "      <td>89.9900</td>\n",
       "      <td>299.840</td>\n",
       "      <td>797.0325</td>\n",
       "      <td>17749.00</td>\n",
       "    </tr>\n",
       "    <tr>\n",
       "      <th>TIME_1801_2359_REVENUE</th>\n",
       "      <td>5000.0</td>\n",
       "      <td>478.865706</td>\n",
       "      <td>743.244181</td>\n",
       "      <td>0.00</td>\n",
       "      <td>1.0000</td>\n",
       "      <td>208.990</td>\n",
       "      <td>620.1175</td>\n",
       "      <td>12995.00</td>\n",
       "    </tr>\n",
       "  </tbody>\n",
       "</table>\n",
       "</div>"
      ],
      "text/plain": [
       "                            count          mean           std      min  \\\n",
       "CUSTOMER_ID                5000.0  43041.227800  49949.848017  2333.00   \n",
       "AGE                        5000.0     34.070800     12.635621    17.00   \n",
       "TOTAL_ORDERS               5000.0     12.870400     12.679880     1.00   \n",
       "REVENUE                    5000.0   1681.523848   1998.618797    38.50   \n",
       "AVERAGE_ORDER_VALUE        5000.0    136.537378     91.651569    10.68   \n",
       "CARRIAGE_REVENUE           5000.0     46.036376     47.879226     0.00   \n",
       "AVERAGESHIPPING            5000.0      3.592574      2.021360     0.00   \n",
       "AVGDAYSBETWEENORDERS       5000.0    163.159618    259.699496     0.00   \n",
       "DAYSSINCELASTORDER         5000.0     87.420000     80.156513     1.00   \n",
       "MONDAY_ORDERS              5000.0      1.629000      2.236506     0.00   \n",
       "TUESDAY_ORDERS             5000.0      1.754400      2.433940     0.00   \n",
       "WEDNESDAY_ORDERS           5000.0      1.798000      2.464875     0.00   \n",
       "THURSDAY_ORDERS            5000.0      2.134000      2.468048     0.00   \n",
       "FRIDAY_ORDERS              5000.0      1.946200      2.652680     0.00   \n",
       "SATURDAY_ORDERS            5000.0      1.683400      2.449972     0.00   \n",
       "SUNDAY_ORDERS              5000.0      1.925400      2.315018     0.00   \n",
       "MONDAY_REVENUE             5000.0    215.208334    397.831935     0.00   \n",
       "TUESDAY_REVENUE            5000.0    233.510430    411.941787     0.00   \n",
       "WEDNESDAY_REVENUE          5000.0    235.689294    397.858311     0.00   \n",
       "THURSDAY_REVENUE           5000.0    265.949796    383.890024     0.00   \n",
       "FRIDAY_REVENUE             5000.0    250.580554    400.543113     0.00   \n",
       "SATURDAY_REVENUE           5000.0    219.642100    376.139760     0.00   \n",
       "SUNDAY_REVENUE             5000.0    260.943330    406.926075     0.00   \n",
       "WEEK1_DAY01_DAY07_ORDERS   5000.0      2.997800      3.256980     0.00   \n",
       "WEEK2_DAY08_DAY15_ORDERS   5000.0      3.062600      3.792461     0.00   \n",
       "WEEK3_DAY16_DAY23_ORDERS   5000.0      3.230000      3.921043     0.00   \n",
       "WEEK4_DAY24_DAY31_ORDERS   5000.0      3.580000      3.970384     0.00   \n",
       "WEEK1_DAY01_DAY07_REVENUE  5000.0    378.638346    515.590218     0.00   \n",
       "WEEK2_DAY08_DAY15_REVENUE  5000.0    406.595736    619.413312     0.00   \n",
       "WEEK3_DAY16_DAY23_REVENUE  5000.0    421.826904    643.449042     0.00   \n",
       "WEEK4_DAY24_DAY31_REVENUE  5000.0    474.462852    617.579321     0.00   \n",
       "TIME_0000_0600_ORDERS      5000.0      1.028800      2.174331     0.00   \n",
       "TIME_0601_1200_ORDERS      5000.0      3.746200      4.700234     0.00   \n",
       "TIME_1200_1800_ORDERS      5000.0      4.434000      5.044793     0.00   \n",
       "TIME_1801_2359_ORDERS      5000.0      3.661400      4.581894     0.00   \n",
       "TIME_0000_0600_REVENUE     5000.0    131.062636    331.289349     0.00   \n",
       "TIME_0601_1200_REVENUE     5000.0    486.863878    789.030168     0.00   \n",
       "TIME_1200_1800_REVENUE     5000.0    584.731624    804.289983     0.00   \n",
       "TIME_1801_2359_REVENUE     5000.0    478.865706    743.244181     0.00   \n",
       "\n",
       "                                 25%        50%         75%        max  \n",
       "CUSTOMER_ID                4019.5000  16097.000  74223.5000  279492.00  \n",
       "AGE                          24.0000     30.000     44.0000      62.00  \n",
       "TOTAL_ORDERS                  3.0000      8.000     20.0000     156.00  \n",
       "REVENUE                     315.0975    966.725   2493.0725   34847.40  \n",
       "AVERAGE_ORDER_VALUE          83.0250    113.160    160.2725    1578.88  \n",
       "CARRIAGE_REVENUE              9.9800     24.985     76.8625     529.59  \n",
       "AVERAGESHIPPING               2.5000      3.660      4.7900      35.99  \n",
       "AVGDAYSBETWEENORDERS         21.6700     57.635    170.3575    1409.50  \n",
       "DAYSSINCELASTORDER            7.0000     68.000    171.2500     207.00  \n",
       "MONDAY_ORDERS                 0.0000      1.000      2.0000      19.00  \n",
       "TUESDAY_ORDERS                0.0000      1.000      3.0000      23.00  \n",
       "WEDNESDAY_ORDERS              0.0000      1.000      3.0000      29.00  \n",
       "THURSDAY_ORDERS               0.0000      1.000      3.0000      32.00  \n",
       "FRIDAY_ORDERS                 0.0000      1.000      3.0000      26.00  \n",
       "SATURDAY_ORDERS               0.0000      1.000      3.0000      31.00  \n",
       "SUNDAY_ORDERS                 0.0000      1.000      3.0000      23.00  \n",
       "MONDAY_REVENUE                0.0000     74.990    286.8650   12819.40  \n",
       "TUESDAY_REVENUE               0.0000     75.990    310.9725    7853.92  \n",
       "WEDNESDAY_REVENUE             0.0000     80.990    319.9925    5877.44  \n",
       "THURSDAY_REVENUE              0.0000    144.590    344.3575    6434.95  \n",
       "FRIDAY_REVENUE                0.0000     91.195    352.7400    6855.22  \n",
       "SATURDAY_REVENUE              0.0000     62.415    297.2800    4642.97  \n",
       "SUNDAY_REVENUE                0.0000    135.990    341.3675    8366.35  \n",
       "WEEK1_DAY01_DAY07_ORDERS      1.0000      2.000      4.0000      32.00  \n",
       "WEEK2_DAY08_DAY15_ORDERS      0.0000      2.000      5.0000      42.00  \n",
       "WEEK3_DAY16_DAY23_ORDERS      0.0000      2.000      5.0000      37.00  \n",
       "WEEK4_DAY24_DAY31_ORDERS      1.0000      2.000      5.0000      53.00  \n",
       "WEEK1_DAY01_DAY07_REVENUE    63.9900    190.985    513.0125    8143.65  \n",
       "WEEK2_DAY08_DAY15_REVENUE     0.0000    183.925    553.4625   11303.90  \n",
       "WEEK3_DAY16_DAY23_REVENUE     0.0000    194.990    604.0850   12946.20  \n",
       "WEEK4_DAY24_DAY31_REVENUE    80.0000    264.485    651.4875    8274.97  \n",
       "TIME_0000_0600_ORDERS         0.0000      0.000      1.0000      34.00  \n",
       "TIME_0601_1200_ORDERS         1.0000      2.000      6.0000      61.00  \n",
       "TIME_1200_1800_ORDERS         1.0000      3.000      7.0000      58.00  \n",
       "TIME_1801_2359_ORDERS         1.0000      2.000      5.0000      64.00  \n",
       "TIME_0000_0600_REVENUE        0.0000      0.000    131.2825    7700.24  \n",
       "TIME_0601_1200_REVENUE       35.0000    236.440    661.9525   23832.80  \n",
       "TIME_1200_1800_REVENUE       89.9900    299.840    797.0325   17749.00  \n",
       "TIME_1801_2359_REVENUE        1.0000    208.990    620.1175   12995.00  "
      ]
     },
     "execution_count": 10,
     "metadata": {},
     "output_type": "execute_result"
    }
   ],
   "source": [
    "df. describe().T"
   ]
  },
  {
   "cell_type": "markdown",
   "metadata": {
    "id": "LtQDrhPc-Pes"
   },
   "source": [
    "**Observation:**\n",
    "\n",
    "1. From the above statistical summary its observed that almost every column has outliers expect for \"DAYSSINCELASTORDER\" and \"AGE\".\n",
    "Note:  Here we can ignore CUSTOMER_ID Since its the unique ID of the customer.\n",
    "2. 75% of the orders have order value less than 160$.\n",
    "3. Less than 50% of the customer have purchase frequency less than 60-days(2 months)\n",
    "\n",
    "\n"
   ]
  },
  {
   "cell_type": "markdown",
   "metadata": {
    "id": "Jp4SYGaIAoom"
   },
   "source": [
    "## 4.0 Uni-Variate Analysis"
   ]
  },
  {
   "cell_type": "markdown",
   "metadata": {
    "id": "-gccPrIEAynH"
   },
   "source": [
    "#### 4.1 What is the age distribution of customers?"
   ]
  },
  {
   "cell_type": "code",
   "execution_count": 11,
   "metadata": {
    "colab": {
     "base_uri": "https://localhost:8080/",
     "height": 0
    },
    "id": "EHi-CVtAdQRK",
    "outputId": "e2adced6-61f4-4edf-cfae-1098b2ff3be0"
   },
   "outputs": [
    {
     "data": {
      "image/png": "[encoded data removed]",
      "text/plain": [
       "<Figure size 720x576 with 1 Axes>"
      ]
     },
     "metadata": {
      "needs_background": "light"
     },
     "output_type": "display_data"
    }
   ],
   "source": [
    "plt.figure(figsize = (10, 8))\n",
    "sns.histplot(x = 'AGE', data = df, kde = True)\n",
    "plt.show()"
   ]
  },
  {
   "cell_type": "markdown",
   "metadata": {
    "id": "iHa-SaGp3_nX"
   },
   "source": [
    "**Observations**\n",
    "\n",
    "- It can be seen that maximum customers are of age 10  to 30.\n",
    "\n",
    "\n",
    "\n"
   ]
  },
  {
   "cell_type": "markdown",
   "metadata": {
    "id": "vYPrj9czBKMB"
   },
   "source": [
    "#### 4.2 What is the distribution of total orders?"
   ]
  },
  {
   "cell_type": "code",
   "execution_count": 12,
   "metadata": {
    "colab": {
     "base_uri": "https://localhost:8080/",
     "height": 0
    },
    "id": "ra9LGbhHdkk4",
    "outputId": "6a42112c-610e-4c13-f670-d168dbe09052"
   },
   "outputs": [
    {
     "data": {
      "image/png": "[encoded data removed]",
      "text/plain": [
       "<Figure size 864x576 with 1 Axes>"
      ]
     },
     "metadata": {
      "needs_background": "light"
     },
     "output_type": "display_data"
    }
   ],
   "source": [
    "plt.figure(figsize = (12, 8))\n",
    "sns.histplot(x = 'TOTAL_ORDERS', data = df, kde = True)\n",
    "plt.show()"
   ]
  },
  {
   "cell_type": "markdown",
   "metadata": {
    "id": "wAEtuS8KBS8F"
   },
   "source": [
    "#### 4.3 What is the distribution across Revenue"
   ]
  },
  {
   "cell_type": "code",
   "execution_count": 13,
   "metadata": {
    "colab": {
     "base_uri": "https://localhost:8080/",
     "height": 0
    },
    "id": "nIVMerpieBA5",
    "outputId": "eaaa5d06-cfc4-44eb-bda7-4ef536c8e032"
   },
   "outputs": [
    {
     "data": {
      "image/png": "[encoded data removed]",
      "text/plain": [
       "<Figure size 864x576 with 1 Axes>"
      ]
     },
     "metadata": {
      "needs_background": "light"
     },
     "output_type": "display_data"
    }
   ],
   "source": [
    "plt.figure(figsize = (12, 8))\n",
    "sns.histplot(x = 'REVENUE', data = df, kde = True)\n",
    "plt.show()"
   ]
  },
  {
   "cell_type": "markdown",
   "metadata": {
    "id": "63C57UEYIivX"
   },
   "source": [
    "#### 4.4 What is the distribution of Average Order Value?"
   ]
  },
  {
   "cell_type": "code",
   "execution_count": 14,
   "metadata": {
    "colab": {
     "base_uri": "https://localhost:8080/",
     "height": 0
    },
    "id": "LQLS_VgBeGiE",
    "outputId": "5b4671cf-8ad3-4772-8da4-7c15d0126aaf"
   },
   "outputs": [
    {
     "data": {
      "image/png": "[encoded data removed]",
      "text/plain": [
       "<Figure size 864x576 with 1 Axes>"
      ]
     },
     "metadata": {
      "needs_background": "light"
     },
     "output_type": "display_data"
    }
   ],
   "source": [
    "plt.figure(figsize = (12, 8))\n",
    "sns.histplot(x = 'AVERAGE_ORDER_VALUE', data = df, kde = True)\n",
    "plt.show()"
   ]
  },
  {
   "cell_type": "markdown",
   "metadata": {
    "id": "qrtOZ8K75RXZ"
   },
   "source": [
    "**Observations**\n",
    "\n",
    "- It can be seen that, in general, the average order value lies between 10 and 300. Some of the orders have a high price value."
   ]
  },
  {
   "cell_type": "markdown",
   "metadata": {
    "id": "RjalaOksIypM"
   },
   "source": [
    "#### 4.5 What is the distribution of customer purchase frequency?"
   ]
  },
  {
   "cell_type": "code",
   "execution_count": 15,
   "metadata": {
    "colab": {
     "base_uri": "https://localhost:8080/",
     "height": 0
    },
    "id": "hLP9n-x5eLmZ",
    "outputId": "420cc105-9097-4c9f-b83b-3ac3de4f91fc"
   },
   "outputs": [
    {
     "data": {
      "image/png": "[encoded data removed]",
      "text/plain": [
       "<Figure size 864x576 with 1 Axes>"
      ]
     },
     "metadata": {
      "needs_background": "light"
     },
     "output_type": "display_data"
    }
   ],
   "source": [
    "plt.figure(figsize = (12, 8))\n",
    "sns.histplot(x = 'AVGDAYSBETWEENORDERS', data = df, kde = True)\n",
    "plt.show()"
   ]
  },
  {
   "cell_type": "markdown",
   "metadata": {
    "id": "6MR8iWHZ5SRg"
   },
   "source": [
    "**Observations**\n",
    "\n",
    "It can be seen that, mostly, the average number of days between orders is somewhere between 0 and 100."
   ]
  },
  {
   "cell_type": "markdown",
   "metadata": {
    "id": "-4ko4JCtRhkw"
   },
   "source": [
    "#### 4.6. What is the distribution of days since last order from a customer?"
   ]
  },
  {
   "cell_type": "code",
   "execution_count": 16,
   "metadata": {
    "colab": {
     "base_uri": "https://localhost:8080/",
     "height": 0
    },
    "id": "uUMBtkS-ePPz",
    "outputId": "3535ee68-5f00-4b4b-c928-9450e5361894"
   },
   "outputs": [
    {
     "data": {
      "image/png": "[encoded data removed]",
      "text/plain": [
       "<Figure size 864x576 with 1 Axes>"
      ]
     },
     "metadata": {
      "needs_background": "light"
     },
     "output_type": "display_data"
    }
   ],
   "source": [
    "plt.figure(figsize = (12, 8))\n",
    "sns.histplot(x = 'DAYSSINCELASTORDER', data = df, kde = True)\n",
    "plt.show()"
   ]
  },
  {
   "cell_type": "markdown",
   "metadata": {
    "id": "-4Pljkxp5TRi"
   },
   "source": [
    "**Observations**\n",
    "\n",
    "1. From the graph its observed that approximately 30% of the customer have ordered recently (1 - 15 days)\n",
    "2. At the same time there are approximately 20% of customers recent order it more than a 6months\n",
    "\n"
   ]
  },
  {
   "cell_type": "markdown",
   "metadata": {
    "id": "BMhr6X7sULvR"
   },
   "source": [
    "## 5.0 Answering specific business questions"
   ]
  },
  {
   "cell_type": "markdown",
   "metadata": {
    "id": "ThoyD33fgRLS"
   },
   "source": [
    "#### 5.1 What is the distribution of customers across Occupation?"
   ]
  },
  {
   "cell_type": "code",
   "execution_count": 17,
   "metadata": {
    "colab": {
     "base_uri": "https://localhost:8080/",
     "height": 332
    },
    "id": "ILvWCnbudLJI",
    "outputId": "b2c49a22-ad97-4954-dad9-600cdd4bd789"
   },
   "outputs": [
    {
     "data": {
      "text/html": [
       "<div>\n",
       "<style scoped>\n",
       "    .dataframe tbody tr th:only-of-type {\n",
       "        vertical-align: middle;\n",
       "    }\n",
       "\n",
       "    .dataframe tbody tr th {\n",
       "        vertical-align: top;\n",
       "    }\n",
       "\n",
       "    .dataframe thead th {\n",
       "        text-align: right;\n",
       "    }\n",
       "</style>\n",
       "<table border=\"1\" class=\"dataframe\">\n",
       "  <thead>\n",
       "    <tr style=\"text-align: right;\">\n",
       "      <th></th>\n",
       "      <th>Customer_Count</th>\n",
       "      <th>Count_Perc</th>\n",
       "    </tr>\n",
       "    <tr>\n",
       "      <th>OCCUPATION</th>\n",
       "      <th></th>\n",
       "      <th></th>\n",
       "    </tr>\n",
       "  </thead>\n",
       "  <tbody>\n",
       "    <tr>\n",
       "      <th>Blue-Collar</th>\n",
       "      <td>999</td>\n",
       "      <td>19.98%</td>\n",
       "    </tr>\n",
       "    <tr>\n",
       "      <th>Clerical</th>\n",
       "      <td>551</td>\n",
       "      <td>11.02%</td>\n",
       "    </tr>\n",
       "    <tr>\n",
       "      <th>Doctor</th>\n",
       "      <td>440</td>\n",
       "      <td>8.8%</td>\n",
       "    </tr>\n",
       "    <tr>\n",
       "      <th>Home Maker</th>\n",
       "      <td>622</td>\n",
       "      <td>12.44%</td>\n",
       "    </tr>\n",
       "    <tr>\n",
       "      <th>Lawyer</th>\n",
       "      <td>564</td>\n",
       "      <td>11.28%</td>\n",
       "    </tr>\n",
       "    <tr>\n",
       "      <th>Manager</th>\n",
       "      <td>278</td>\n",
       "      <td>5.56%</td>\n",
       "    </tr>\n",
       "    <tr>\n",
       "      <th>Professional</th>\n",
       "      <td>830</td>\n",
       "      <td>16.6%</td>\n",
       "    </tr>\n",
       "    <tr>\n",
       "      <th>Student</th>\n",
       "      <td>716</td>\n",
       "      <td>14.32%</td>\n",
       "    </tr>\n",
       "  </tbody>\n",
       "</table>\n",
       "</div>"
      ],
      "text/plain": [
       "              Customer_Count Count_Perc\n",
       "OCCUPATION                             \n",
       "Blue-Collar              999     19.98%\n",
       "Clerical                 551     11.02%\n",
       "Doctor                   440       8.8%\n",
       "Home Maker               622     12.44%\n",
       "Lawyer                   564     11.28%\n",
       "Manager                  278      5.56%\n",
       "Professional             830      16.6%\n",
       "Student                  716     14.32%"
      ]
     },
     "execution_count": 17,
     "metadata": {},
     "output_type": "execute_result"
    }
   ],
   "source": [
    "def func(x):\n",
    "  return str(x * 100 / 5000) + \"%\"\n",
    "temp1 = pd.DataFrame(df.groupby('OCCUPATION')['CUSTOMER_ID'].count())\n",
    "temp1['Count_Perc'] = temp1.CUSTOMER_ID.apply(func)\n",
    "temp1.rename(columns = {'CUSTOMER_ID':'Customer_Count'}, inplace = True)\n",
    "temp1"
   ]
  },
  {
   "cell_type": "markdown",
   "metadata": {
    "id": "AS-LzoXB5UfS"
   },
   "source": [
    "**Observations**\n",
    "\n",
    "- It can be seen that the maximum customers' occupations are blue-collar, followed by professionals and students."
   ]
  },
  {
   "cell_type": "markdown",
   "metadata": {
    "id": "r5884hIvgP_o"
   },
   "source": [
    "#### 5.2 What is the distribution of customers across Age?"
   ]
  },
  {
   "cell_type": "code",
   "execution_count": 18,
   "metadata": {
    "colab": {
     "base_uri": "https://localhost:8080/",
     "height": 237
    },
    "id": "IU2SBCOTg7kz",
    "outputId": "7959e5b0-9489-4bb3-fd0e-fe2edd729ed6"
   },
   "outputs": [
    {
     "data": {
      "text/html": [
       "<div>\n",
       "<style scoped>\n",
       "    .dataframe tbody tr th:only-of-type {\n",
       "        vertical-align: middle;\n",
       "    }\n",
       "\n",
       "    .dataframe tbody tr th {\n",
       "        vertical-align: top;\n",
       "    }\n",
       "\n",
       "    .dataframe thead th {\n",
       "        text-align: right;\n",
       "    }\n",
       "</style>\n",
       "<table border=\"1\" class=\"dataframe\">\n",
       "  <thead>\n",
       "    <tr style=\"text-align: right;\">\n",
       "      <th></th>\n",
       "      <th>Customer_Count</th>\n",
       "      <th>Count_Perc</th>\n",
       "    </tr>\n",
       "    <tr>\n",
       "      <th>AGE_CATEGORY</th>\n",
       "      <th></th>\n",
       "      <th></th>\n",
       "    </tr>\n",
       "  </thead>\n",
       "  <tbody>\n",
       "    <tr>\n",
       "      <th>19 &amp; below</th>\n",
       "      <td>411</td>\n",
       "      <td>8.22%</td>\n",
       "    </tr>\n",
       "    <tr>\n",
       "      <th>20-29</th>\n",
       "      <td>1971</td>\n",
       "      <td>39.42%</td>\n",
       "    </tr>\n",
       "    <tr>\n",
       "      <th>30-39</th>\n",
       "      <td>997</td>\n",
       "      <td>19.94%</td>\n",
       "    </tr>\n",
       "    <tr>\n",
       "      <th>40-49</th>\n",
       "      <td>785</td>\n",
       "      <td>15.7%</td>\n",
       "    </tr>\n",
       "    <tr>\n",
       "      <th>50 and above</th>\n",
       "      <td>836</td>\n",
       "      <td>16.72%</td>\n",
       "    </tr>\n",
       "  </tbody>\n",
       "</table>\n",
       "</div>"
      ],
      "text/plain": [
       "              Customer_Count Count_Perc\n",
       "AGE_CATEGORY                           \n",
       "19 & below               411      8.22%\n",
       "20-29                   1971     39.42%\n",
       "30-39                    997     19.94%\n",
       "40-49                    785      15.7%\n",
       "50 and above             836     16.72%"
      ]
     },
     "execution_count": 18,
     "metadata": {},
     "output_type": "execute_result"
    }
   ],
   "source": [
    "temp2 = pd.DataFrame(df.groupby('AGE_CATEGORY')['CUSTOMER_ID'].count())\n",
    "temp2['Count_Perc'] = temp2.CUSTOMER_ID.apply(func)\n",
    "temp2.rename(columns = {'CUSTOMER_ID':'Customer_Count'}, inplace = True)\n",
    "temp2"
   ]
  },
  {
   "cell_type": "markdown",
   "metadata": {
    "id": "KsEsIIO25VXB"
   },
   "source": [
    "**Observations**\n",
    "\n",
    "1.   From the above table, it is observed that around 39.66% of the customers are between the age categories of 20-29.\n",
    "\n"
   ]
  },
  {
   "cell_type": "markdown",
   "metadata": {
    "id": "SJdUIAIHiVUd"
   },
   "source": [
    "#### 5.3 What is the distribution of revenue across Occupation?"
   ]
  },
  {
   "cell_type": "code",
   "execution_count": 19,
   "metadata": {
    "colab": {
     "base_uri": "https://localhost:8080/",
     "height": 418
    },
    "id": "8DIrdwuKhyaR",
    "outputId": "0c91cc5e-5721-4b68-99c9-d3c58734f19b"
   },
   "outputs": [
    {
     "name": "stderr",
     "output_type": "stream",
     "text": [
      "/var/folders/w0/nbsnlqqd60s_jl5jwcqh9d7r0000gn/T/ipykernel_5089/532838018.py:4: SettingWithCopyWarning: \n",
      "A value is trying to be set on a copy of a slice from a DataFrame\n",
      "\n",
      "See the caveats in the documentation: https://pandas.pydata.org/pandas-docs/stable/user_guide/indexing.html#returning-a-view-versus-a-copy\n",
      "  temp3.drop('Customer_Count', axis = 1, inplace = True)\n"
     ]
    },
    {
     "data": {
      "text/html": [
       "<div>\n",
       "<style scoped>\n",
       "    .dataframe tbody tr th:only-of-type {\n",
       "        vertical-align: middle;\n",
       "    }\n",
       "\n",
       "    .dataframe tbody tr th {\n",
       "        vertical-align: top;\n",
       "    }\n",
       "\n",
       "    .dataframe thead th {\n",
       "        text-align: right;\n",
       "    }\n",
       "</style>\n",
       "<table border=\"1\" class=\"dataframe\">\n",
       "  <thead>\n",
       "    <tr style=\"text-align: right;\">\n",
       "      <th></th>\n",
       "      <th>Count_Perc</th>\n",
       "      <th>Sum_of_Revenue</th>\n",
       "      <th>Perc_of_Revenue</th>\n",
       "    </tr>\n",
       "    <tr>\n",
       "      <th>OCCUPATION</th>\n",
       "      <th></th>\n",
       "      <th></th>\n",
       "      <th></th>\n",
       "    </tr>\n",
       "  </thead>\n",
       "  <tbody>\n",
       "    <tr>\n",
       "      <th>Blue-Collar</th>\n",
       "      <td>19.98%</td>\n",
       "      <td>1709897.27</td>\n",
       "      <td>20.34%</td>\n",
       "    </tr>\n",
       "    <tr>\n",
       "      <th>Clerical</th>\n",
       "      <td>11.02%</td>\n",
       "      <td>951856.90</td>\n",
       "      <td>11.32%</td>\n",
       "    </tr>\n",
       "    <tr>\n",
       "      <th>Doctor</th>\n",
       "      <td>8.8%</td>\n",
       "      <td>696159.08</td>\n",
       "      <td>8.28%</td>\n",
       "    </tr>\n",
       "    <tr>\n",
       "      <th>Home Maker</th>\n",
       "      <td>12.44%</td>\n",
       "      <td>1076129.18</td>\n",
       "      <td>12.8%</td>\n",
       "    </tr>\n",
       "    <tr>\n",
       "      <th>Lawyer</th>\n",
       "      <td>11.28%</td>\n",
       "      <td>935189.04</td>\n",
       "      <td>11.12%</td>\n",
       "    </tr>\n",
       "    <tr>\n",
       "      <th>Manager</th>\n",
       "      <td>5.56%</td>\n",
       "      <td>514869.63</td>\n",
       "      <td>6.12%</td>\n",
       "    </tr>\n",
       "    <tr>\n",
       "      <th>Professional</th>\n",
       "      <td>16.6%</td>\n",
       "      <td>1326178.25</td>\n",
       "      <td>15.77%</td>\n",
       "    </tr>\n",
       "    <tr>\n",
       "      <th>Student</th>\n",
       "      <td>14.32%</td>\n",
       "      <td>1197339.89</td>\n",
       "      <td>14.24%</td>\n",
       "    </tr>\n",
       "  </tbody>\n",
       "</table>\n",
       "</div>"
      ],
      "text/plain": [
       "             Count_Perc  Sum_of_Revenue Perc_of_Revenue\n",
       "OCCUPATION                                             \n",
       "Blue-Collar      19.98%      1709897.27          20.34%\n",
       "Clerical         11.02%       951856.90          11.32%\n",
       "Doctor             8.8%       696159.08           8.28%\n",
       "Home Maker       12.44%      1076129.18           12.8%\n",
       "Lawyer           11.28%       935189.04          11.12%\n",
       "Manager           5.56%       514869.63           6.12%\n",
       "Professional      16.6%      1326178.25          15.77%\n",
       "Student          14.32%      1197339.89          14.24%"
      ]
     },
     "execution_count": 19,
     "metadata": {},
     "output_type": "execute_result"
    }
   ],
   "source": [
    "def func2(x):\n",
    "  return str(round(x * 100 / df.REVENUE.sum(), 2)) + \"%\"\n",
    "temp3 = temp1[:]\n",
    "temp3.drop('Customer_Count', axis = 1, inplace = True)\n",
    "temp3['Sum_of_Revenue'] = df.groupby('OCCUPATION')['REVENUE'].sum()\n",
    "temp3['Perc_of_Revenue'] = temp3['Sum_of_Revenue'].apply(func2)\n",
    "temp3"
   ]
  },
  {
   "cell_type": "markdown",
   "metadata": {
    "id": "1N7IFljZkSGt"
   },
   "source": [
    "From the table its observed that there is 20.34% revenue contribution from the customer who are in Blue-Collar job and the lowest is from the occupation manager that is 6.12% "
   ]
  },
  {
   "cell_type": "markdown",
   "metadata": {
    "id": "h1lnI7Dtk8o2"
   },
   "source": [
    "#### 5.4 What is the distribution of revenue across Age?"
   ]
  },
  {
   "cell_type": "code",
   "execution_count": 20,
   "metadata": {
    "colab": {
     "base_uri": "https://localhost:8080/",
     "height": 324
    },
    "id": "1QWpUdYn-DOj",
    "outputId": "2464a301-2558-4fd7-fdda-0915539b28ca"
   },
   "outputs": [
    {
     "name": "stderr",
     "output_type": "stream",
     "text": [
      "/var/folders/w0/nbsnlqqd60s_jl5jwcqh9d7r0000gn/T/ipykernel_5089/4268068277.py:2: SettingWithCopyWarning: \n",
      "A value is trying to be set on a copy of a slice from a DataFrame\n",
      "\n",
      "See the caveats in the documentation: https://pandas.pydata.org/pandas-docs/stable/user_guide/indexing.html#returning-a-view-versus-a-copy\n",
      "  temp_age.drop('Customer_Count', axis = 1, inplace = True)\n"
     ]
    },
    {
     "data": {
      "text/html": [
       "<div>\n",
       "<style scoped>\n",
       "    .dataframe tbody tr th:only-of-type {\n",
       "        vertical-align: middle;\n",
       "    }\n",
       "\n",
       "    .dataframe tbody tr th {\n",
       "        vertical-align: top;\n",
       "    }\n",
       "\n",
       "    .dataframe thead th {\n",
       "        text-align: right;\n",
       "    }\n",
       "</style>\n",
       "<table border=\"1\" class=\"dataframe\">\n",
       "  <thead>\n",
       "    <tr style=\"text-align: right;\">\n",
       "      <th></th>\n",
       "      <th>Count_Perc</th>\n",
       "      <th>sum_of_revenue</th>\n",
       "      <th>perc_of_revenue</th>\n",
       "    </tr>\n",
       "    <tr>\n",
       "      <th>AGE_CATEGORY</th>\n",
       "      <th></th>\n",
       "      <th></th>\n",
       "      <th></th>\n",
       "    </tr>\n",
       "  </thead>\n",
       "  <tbody>\n",
       "    <tr>\n",
       "      <th>19 &amp; below</th>\n",
       "      <td>8.22%</td>\n",
       "      <td>662526.05</td>\n",
       "      <td>7.88%</td>\n",
       "    </tr>\n",
       "    <tr>\n",
       "      <th>20-29</th>\n",
       "      <td>39.42%</td>\n",
       "      <td>3194460.53</td>\n",
       "      <td>37.99%</td>\n",
       "    </tr>\n",
       "    <tr>\n",
       "      <th>30-39</th>\n",
       "      <td>19.94%</td>\n",
       "      <td>2198533.40</td>\n",
       "      <td>26.15%</td>\n",
       "    </tr>\n",
       "    <tr>\n",
       "      <th>40-49</th>\n",
       "      <td>15.7%</td>\n",
       "      <td>1746003.32</td>\n",
       "      <td>20.77%</td>\n",
       "    </tr>\n",
       "    <tr>\n",
       "      <th>50 and above</th>\n",
       "      <td>16.72%</td>\n",
       "      <td>606095.94</td>\n",
       "      <td>7.21%</td>\n",
       "    </tr>\n",
       "  </tbody>\n",
       "</table>\n",
       "</div>"
      ],
      "text/plain": [
       "             Count_Perc  sum_of_revenue perc_of_revenue\n",
       "AGE_CATEGORY                                           \n",
       "19 & below        8.22%       662526.05           7.88%\n",
       "20-29            39.42%      3194460.53          37.99%\n",
       "30-39            19.94%      2198533.40          26.15%\n",
       "40-49             15.7%      1746003.32          20.77%\n",
       "50 and above     16.72%       606095.94           7.21%"
      ]
     },
     "execution_count": 20,
     "metadata": {},
     "output_type": "execute_result"
    }
   ],
   "source": [
    "temp_age = temp2[:]\n",
    "temp_age.drop('Customer_Count', axis = 1, inplace = True)\n",
    "temp_age['sum_of_revenue'] = df.groupby('AGE_CATEGORY')['REVENUE'].sum()\n",
    "temp_age['perc_of_revenue'] = temp_age['sum_of_revenue'].apply(func2)\n",
    "temp_age"
   ]
  },
  {
   "cell_type": "markdown",
   "metadata": {
    "id": "aOhs1pfq5WTD"
   },
   "source": [
    "**Observations**\n",
    "\n",
    "1. From the graph its observed that 38.14% Revenue is generated from customer whose age category is between 20-29"
   ]
  },
  {
   "cell_type": "markdown",
   "metadata": {
    "id": "2UF7ebr5luF2"
   },
   "source": [
    "#### 5.5 What is the distribution of High, Medium and Low value customers based on average order value?"
   ]
  },
  {
   "cell_type": "code",
   "execution_count": 21,
   "metadata": {
    "colab": {
     "base_uri": "https://localhost:8080/",
     "height": 175
    },
    "id": "4UCpSHxgpy2V",
    "outputId": "c6899ad8-ce27-40c7-8a7d-acfef83be2b4"
   },
   "outputs": [
    {
     "data": {
      "text/html": [
       "<div>\n",
       "<style scoped>\n",
       "    .dataframe tbody tr th:only-of-type {\n",
       "        vertical-align: middle;\n",
       "    }\n",
       "\n",
       "    .dataframe tbody tr th {\n",
       "        vertical-align: top;\n",
       "    }\n",
       "\n",
       "    .dataframe thead th {\n",
       "        text-align: right;\n",
       "    }\n",
       "</style>\n",
       "<table border=\"1\" class=\"dataframe\">\n",
       "  <thead>\n",
       "    <tr style=\"text-align: right;\">\n",
       "      <th></th>\n",
       "      <th>Customer_Count</th>\n",
       "      <th>customer_count_perc</th>\n",
       "    </tr>\n",
       "    <tr>\n",
       "      <th>Order_Bucket_Cat</th>\n",
       "      <th></th>\n",
       "      <th></th>\n",
       "    </tr>\n",
       "  </thead>\n",
       "  <tbody>\n",
       "    <tr>\n",
       "      <th>Medium</th>\n",
       "      <td>2767</td>\n",
       "      <td>55.34%</td>\n",
       "    </tr>\n",
       "    <tr>\n",
       "      <th>Low</th>\n",
       "      <td>1993</td>\n",
       "      <td>39.86%</td>\n",
       "    </tr>\n",
       "    <tr>\n",
       "      <th>High</th>\n",
       "      <td>240</td>\n",
       "      <td>4.8%</td>\n",
       "    </tr>\n",
       "  </tbody>\n",
       "</table>\n",
       "</div>"
      ],
      "text/plain": [
       "                  Customer_Count customer_count_perc\n",
       "Order_Bucket_Cat                                    \n",
       "Medium                      2767              55.34%\n",
       "Low                         1993              39.86%\n",
       "High                         240                4.8%"
      ]
     },
     "execution_count": 21,
     "metadata": {},
     "output_type": "execute_result"
    }
   ],
   "source": [
    "def func3(x):\n",
    "  if x > 0 and x <= 100 :\n",
    "    return \"Low\"\n",
    "  elif x > 100 and x <= 300:\n",
    "    return \"Medium\"\n",
    "  else:\n",
    "    return \"High\"\n",
    "\n",
    "df['order_bucket'] = df.AVERAGE_ORDER_VALUE.apply(func3)\n",
    "temp4 = pd.DataFrame(df.order_bucket.value_counts())\n",
    "temp4.columns = ['Customer_Count']\n",
    "temp4.index.name = 'Order_Bucket_Cat'\n",
    "temp4[\"customer_count_perc\"] = temp4.Customer_Count.apply(func)\n",
    "temp4"
   ]
  },
  {
   "cell_type": "markdown",
   "metadata": {
    "id": "YRyJ1-5n5XXW"
   },
   "source": [
    "**Observations**\n",
    "\n",
    "1. From the above table, it is observed that we have around 55.34% of the people having medium order value, which is good for business. But this data gives only the average, so we can assume that it is not highly skewed."
   ]
  },
  {
   "cell_type": "markdown",
   "metadata": {
    "id": "jyfe0R2jnst_"
   },
   "source": [
    "#### 5.6 What is the % of our most frequent customers? (those who order again within 0 to 14 days?)"
   ]
  },
  {
   "cell_type": "code",
   "execution_count": 22,
   "metadata": {
    "colab": {
     "base_uri": "https://localhost:8080/",
     "height": 237
    },
    "id": "S_E3p1WysmEV",
    "outputId": "0cf38d82-3622-4d90-9174-4a173bcdca45"
   },
   "outputs": [
    {
     "data": {
      "text/html": [
       "<div>\n",
       "<style scoped>\n",
       "    .dataframe tbody tr th:only-of-type {\n",
       "        vertical-align: middle;\n",
       "    }\n",
       "\n",
       "    .dataframe tbody tr th {\n",
       "        vertical-align: top;\n",
       "    }\n",
       "\n",
       "    .dataframe thead th {\n",
       "        text-align: right;\n",
       "    }\n",
       "</style>\n",
       "<table border=\"1\" class=\"dataframe\">\n",
       "  <thead>\n",
       "    <tr style=\"text-align: right;\">\n",
       "      <th></th>\n",
       "      <th>Customer_Count</th>\n",
       "      <th>customer_count_perc</th>\n",
       "    </tr>\n",
       "    <tr>\n",
       "      <th>Avg_Days_Btw_Ord_Bucket_Cat</th>\n",
       "      <th></th>\n",
       "      <th></th>\n",
       "    </tr>\n",
       "  </thead>\n",
       "  <tbody>\n",
       "    <tr>\n",
       "      <th>0-7</th>\n",
       "      <td>680</td>\n",
       "      <td>13.6%</td>\n",
       "    </tr>\n",
       "    <tr>\n",
       "      <th>8-14</th>\n",
       "      <td>221</td>\n",
       "      <td>4.42%</td>\n",
       "    </tr>\n",
       "    <tr>\n",
       "      <th>15-28</th>\n",
       "      <td>578</td>\n",
       "      <td>11.56%</td>\n",
       "    </tr>\n",
       "    <tr>\n",
       "      <th>28-56</th>\n",
       "      <td>927</td>\n",
       "      <td>18.54%</td>\n",
       "    </tr>\n",
       "    <tr>\n",
       "      <th>56+</th>\n",
       "      <td>2594</td>\n",
       "      <td>51.88%</td>\n",
       "    </tr>\n",
       "  </tbody>\n",
       "</table>\n",
       "</div>"
      ],
      "text/plain": [
       "                             Customer_Count customer_count_perc\n",
       "Avg_Days_Btw_Ord_Bucket_Cat                                    \n",
       "0-7                                     680               13.6%\n",
       "8-14                                    221               4.42%\n",
       "15-28                                   578              11.56%\n",
       "28-56                                   927              18.54%\n",
       "56+                                    2594              51.88%"
      ]
     },
     "execution_count": 22,
     "metadata": {},
     "output_type": "execute_result"
    }
   ],
   "source": [
    "def func4(x):\n",
    "  if x >= 0 and x <= 7:\n",
    "    return \"0-7\"\n",
    "  elif x >= 8 and x <= 14:\n",
    "    return \"8-14\"\n",
    "  elif x >= 15 and x <= 28:\n",
    "    return \"15-28\"\n",
    "  elif x >= 28 and x <= 56:\n",
    "    return \"28-56\"\n",
    "  else:\n",
    "    return \"56+\"\n",
    "\n",
    "df['avgdaysbetweenorders_bucket'] = df.AVGDAYSBETWEENORDERS.apply(func4)\n",
    "temp5 = pd.DataFrame(df.avgdaysbetweenorders_bucket.value_counts(), \n",
    "                     index = [\"0-7\", \"8-14\", \"15-28\", \"28-56\", \"56+\"])\n",
    "temp5.columns = ['Customer_Count']\n",
    "temp5.index.name = 'Avg_Days_Btw_Ord_Bucket_Cat'\n",
    "temp5[\"customer_count_perc\"] = temp5.Customer_Count.apply(func)\n",
    "temp5"
   ]
  },
  {
   "cell_type": "markdown",
   "metadata": {
    "id": "h_2InYhL5ZMI"
   },
   "source": [
    "**Observations**\n",
    "\n",
    "1.   From the above table its observed that there are more than 50% of the customers are having more than 56 days of order frequency.\n",
    "\n"
   ]
  },
  {
   "cell_type": "markdown",
   "metadata": {
    "id": "fdszfx7hpYtx"
   },
   "source": [
    "#### 5.7 What is the % of our dark* users? \n",
    "\n",
    "**customers who are inactive for 56+ days since their last purchase *italicized text*"
   ]
  },
  {
   "cell_type": "code",
   "execution_count": 23,
   "metadata": {
    "colab": {
     "base_uri": "https://localhost:8080/",
     "height": 237
    },
    "id": "4naqGby5xHbG",
    "outputId": "dacdd2ae-05e5-4e3d-9aab-bccd9670b3da"
   },
   "outputs": [
    {
     "data": {
      "text/html": [
       "<div>\n",
       "<style scoped>\n",
       "    .dataframe tbody tr th:only-of-type {\n",
       "        vertical-align: middle;\n",
       "    }\n",
       "\n",
       "    .dataframe tbody tr th {\n",
       "        vertical-align: top;\n",
       "    }\n",
       "\n",
       "    .dataframe thead th {\n",
       "        text-align: right;\n",
       "    }\n",
       "</style>\n",
       "<table border=\"1\" class=\"dataframe\">\n",
       "  <thead>\n",
       "    <tr style=\"text-align: right;\">\n",
       "      <th></th>\n",
       "      <th>Customer_Count</th>\n",
       "      <th>customer_count_perc</th>\n",
       "    </tr>\n",
       "    <tr>\n",
       "      <th>Day_Since_Last_Order_Bucket_Cat</th>\n",
       "      <th></th>\n",
       "      <th></th>\n",
       "    </tr>\n",
       "  </thead>\n",
       "  <tbody>\n",
       "    <tr>\n",
       "      <th>0-7</th>\n",
       "      <td>1279</td>\n",
       "      <td>25.58%</td>\n",
       "    </tr>\n",
       "    <tr>\n",
       "      <th>8-14</th>\n",
       "      <td>265</td>\n",
       "      <td>5.3%</td>\n",
       "    </tr>\n",
       "    <tr>\n",
       "      <th>15-28</th>\n",
       "      <td>322</td>\n",
       "      <td>6.44%</td>\n",
       "    </tr>\n",
       "    <tr>\n",
       "      <th>28-56</th>\n",
       "      <td>467</td>\n",
       "      <td>9.34%</td>\n",
       "    </tr>\n",
       "    <tr>\n",
       "      <th>56+</th>\n",
       "      <td>2667</td>\n",
       "      <td>53.34%</td>\n",
       "    </tr>\n",
       "  </tbody>\n",
       "</table>\n",
       "</div>"
      ],
      "text/plain": [
       "                                 Customer_Count customer_count_perc\n",
       "Day_Since_Last_Order_Bucket_Cat                                    \n",
       "0-7                                        1279              25.58%\n",
       "8-14                                        265                5.3%\n",
       "15-28                                       322               6.44%\n",
       "28-56                                       467               9.34%\n",
       "56+                                        2667              53.34%"
      ]
     },
     "execution_count": 23,
     "metadata": {},
     "output_type": "execute_result"
    }
   ],
   "source": [
    "df['dayssincelastorder_bucket'] = df.DAYSSINCELASTORDER.apply(func4)\n",
    "temp6 = pd.DataFrame(df.dayssincelastorder_bucket.value_counts(), \n",
    "                     index = [\"0-7\", \"8-14\", \"15-28\", \"28-56\", \"56+\"])\n",
    "temp6.columns = ['Customer_Count']\n",
    "temp6.index.name = 'Day_Since_Last_Order_Bucket_Cat'\n",
    "temp6[\"customer_count_perc\"] = temp6.Customer_Count.apply(func)\n",
    "temp6"
   ]
  },
  {
   "cell_type": "markdown",
   "metadata": {
    "id": "ocBwgqiY5arH"
   },
   "source": [
    "**Observations**\n",
    "\n",
    "1. Here as well, there are 53.34% of the customer haven't placed any orders for more than 56 days. This needs to be investigated further!"
   ]
  },
  {
   "cell_type": "markdown",
   "metadata": {
    "id": "IhnuctaarYBW"
   },
   "source": [
    "#### 5.8 Are there specific weeks in a month where customer orders and revenue is higher compared to other weeks?"
   ]
  },
  {
   "cell_type": "code",
   "execution_count": 24,
   "metadata": {
    "colab": {
     "base_uri": "https://localhost:8080/",
     "height": 206
    },
    "id": "aH3DQrvazCpK",
    "outputId": "bbcfe3ee-644c-4e80-ddea-fd61979725f1"
   },
   "outputs": [
    {
     "data": {
      "text/html": [
       "<div>\n",
       "<style scoped>\n",
       "    .dataframe tbody tr th:only-of-type {\n",
       "        vertical-align: middle;\n",
       "    }\n",
       "\n",
       "    .dataframe tbody tr th {\n",
       "        vertical-align: top;\n",
       "    }\n",
       "\n",
       "    .dataframe thead th {\n",
       "        text-align: right;\n",
       "    }\n",
       "</style>\n",
       "<table border=\"1\" class=\"dataframe\">\n",
       "  <thead>\n",
       "    <tr style=\"text-align: right;\">\n",
       "      <th></th>\n",
       "      <th>Sum_of_Orders</th>\n",
       "      <th>Perc_Order</th>\n",
       "      <th>Sum_of_Rev</th>\n",
       "      <th>Perc_Rev</th>\n",
       "    </tr>\n",
       "    <tr>\n",
       "      <th>Weeks</th>\n",
       "      <th></th>\n",
       "      <th></th>\n",
       "      <th></th>\n",
       "      <th></th>\n",
       "    </tr>\n",
       "  </thead>\n",
       "  <tbody>\n",
       "    <tr>\n",
       "      <th>Week1</th>\n",
       "      <td>14989</td>\n",
       "      <td>23.29%</td>\n",
       "      <td>1893191.73</td>\n",
       "      <td>22.52%</td>\n",
       "    </tr>\n",
       "    <tr>\n",
       "      <th>Week2</th>\n",
       "      <td>15313</td>\n",
       "      <td>23.8%</td>\n",
       "      <td>2032978.68</td>\n",
       "      <td>24.18%</td>\n",
       "    </tr>\n",
       "    <tr>\n",
       "      <th>Week3</th>\n",
       "      <td>16150</td>\n",
       "      <td>25.1%</td>\n",
       "      <td>2109134.52</td>\n",
       "      <td>25.09%</td>\n",
       "    </tr>\n",
       "    <tr>\n",
       "      <th>Week4</th>\n",
       "      <td>17900</td>\n",
       "      <td>27.82%</td>\n",
       "      <td>2372314.26</td>\n",
       "      <td>28.22%</td>\n",
       "    </tr>\n",
       "  </tbody>\n",
       "</table>\n",
       "</div>"
      ],
      "text/plain": [
       "       Sum_of_Orders Perc_Order  Sum_of_Rev Perc_Rev\n",
       "Weeks                                               \n",
       "Week1          14989     23.29%  1893191.73   22.52%\n",
       "Week2          15313      23.8%  2032978.68   24.18%\n",
       "Week3          16150      25.1%  2109134.52   25.09%\n",
       "Week4          17900     27.82%  2372314.26   28.22%"
      ]
     },
     "execution_count": 24,
     "metadata": {},
     "output_type": "execute_result"
    }
   ],
   "source": [
    "def ord_perc(x):\n",
    "  return str(round(x * 100 / df[\"TOTAL_ORDERS\"].sum(), 2)) + \"%\"\n",
    "\n",
    "temp7 = df[['WEEK1_DAY01_DAY07_ORDERS',\n",
    "       'WEEK2_DAY08_DAY15_ORDERS', 'WEEK3_DAY16_DAY23_ORDERS',\n",
    "       'WEEK4_DAY24_DAY31_ORDERS', 'WEEK1_DAY01_DAY07_REVENUE',\n",
    "       'WEEK2_DAY08_DAY15_REVENUE', 'WEEK3_DAY16_DAY23_REVENUE',\n",
    "       'WEEK4_DAY24_DAY31_REVENUE']]\n",
    "temp7\n",
    "temp7_df = pd.DataFrame([[0,1,2,3], [0,1,3], [0,1,2], [0,1,2]], index = [\"Week1\", \"Week2\", \"Week3\", \"Week4\"])\n",
    "temp7_df.index.name = \"Weeks\"\n",
    "temp7_df.columns = [\"Sum_of_Orders\", \"Perc_Order\", \"Sum_of_Rev\", \"Perc_Rev\"]\n",
    "\n",
    "temp7_df.at[\"Week1\", \"Sum_of_Orders\"] = temp7[\"WEEK1_DAY01_DAY07_ORDERS\"].sum()\n",
    "temp7_df.at[\"Week2\", \"Sum_of_Orders\"] = temp7[\"WEEK2_DAY08_DAY15_ORDERS\"].sum()\n",
    "temp7_df.at[\"Week3\", \"Sum_of_Orders\"] = temp7[\"WEEK3_DAY16_DAY23_ORDERS\"].sum()\n",
    "temp7_df.at[\"Week4\", \"Sum_of_Orders\"] = temp7[\"WEEK4_DAY24_DAY31_ORDERS\"].sum()\n",
    "\n",
    "temp7_df[\"Perc_Order\"] = temp7_df[\"Sum_of_Orders\"].apply(ord_perc)\n",
    "\n",
    "temp7_df.at[\"Week1\", \"Sum_of_Rev\"] = temp7[\"WEEK1_DAY01_DAY07_REVENUE\"].sum()\n",
    "temp7_df.at[\"Week2\", \"Sum_of_Rev\"] = temp7[\"WEEK2_DAY08_DAY15_REVENUE\"].sum()\n",
    "temp7_df.at[\"Week3\", \"Sum_of_Rev\"] = temp7[\"WEEK3_DAY16_DAY23_REVENUE\"].sum()\n",
    "temp7_df.at[\"Week4\", \"Sum_of_Rev\"] = temp7[\"WEEK4_DAY24_DAY31_REVENUE\"].sum()\n",
    "\n",
    "temp7_df[\"Perc_Rev\"] = temp7_df[\"Sum_of_Rev\"].apply(func2)\n",
    "\n",
    "temp7_df"
   ]
  },
  {
   "cell_type": "markdown",
   "metadata": {
    "id": "RMNYcv7L5b35"
   },
   "source": [
    "**Observations**\n",
    "\n",
    "From the table its observed that there is no much difference in the Order placed & revenue generated based on the week number for a month"
   ]
  },
  {
   "cell_type": "markdown",
   "metadata": {
    "id": "tfRlhlAWs6EW"
   },
   "source": [
    "#### 5.9 Are there specific points in a day where customers are more likely to place their orders?"
   ]
  },
  {
   "cell_type": "code",
   "execution_count": 25,
   "metadata": {
    "colab": {
     "base_uri": "https://localhost:8080/",
     "height": 206
    },
    "id": "DC4UM5tv1ZHz",
    "outputId": "3cc0deba-c0ec-46be-f83f-383e98255fa9"
   },
   "outputs": [
    {
     "data": {
      "text/html": [
       "<div>\n",
       "<style scoped>\n",
       "    .dataframe tbody tr th:only-of-type {\n",
       "        vertical-align: middle;\n",
       "    }\n",
       "\n",
       "    .dataframe tbody tr th {\n",
       "        vertical-align: top;\n",
       "    }\n",
       "\n",
       "    .dataframe thead th {\n",
       "        text-align: right;\n",
       "    }\n",
       "</style>\n",
       "<table border=\"1\" class=\"dataframe\">\n",
       "  <thead>\n",
       "    <tr style=\"text-align: right;\">\n",
       "      <th></th>\n",
       "      <th>Sum_of_Orders</th>\n",
       "      <th>Perc_Order</th>\n",
       "      <th>Sum_of_Rev</th>\n",
       "      <th>Perc_Rev</th>\n",
       "    </tr>\n",
       "    <tr>\n",
       "      <th>Time Zone</th>\n",
       "      <th></th>\n",
       "      <th></th>\n",
       "      <th></th>\n",
       "      <th></th>\n",
       "    </tr>\n",
       "  </thead>\n",
       "  <tbody>\n",
       "    <tr>\n",
       "      <th>TIME_0000_0600</th>\n",
       "      <td>5144</td>\n",
       "      <td>7.99%</td>\n",
       "      <td>655313.18</td>\n",
       "      <td>7.79%</td>\n",
       "    </tr>\n",
       "    <tr>\n",
       "      <th>TIME_0601_1200</th>\n",
       "      <td>18731</td>\n",
       "      <td>29.11%</td>\n",
       "      <td>2434319.39</td>\n",
       "      <td>28.95%</td>\n",
       "    </tr>\n",
       "    <tr>\n",
       "      <th>TIME_1200_1800</th>\n",
       "      <td>22170</td>\n",
       "      <td>34.45%</td>\n",
       "      <td>2923658.12</td>\n",
       "      <td>34.77%</td>\n",
       "    </tr>\n",
       "    <tr>\n",
       "      <th>TIME_1801_2359</th>\n",
       "      <td>18307</td>\n",
       "      <td>28.45%</td>\n",
       "      <td>2394328.53</td>\n",
       "      <td>28.48%</td>\n",
       "    </tr>\n",
       "  </tbody>\n",
       "</table>\n",
       "</div>"
      ],
      "text/plain": [
       "                Sum_of_Orders Perc_Order  Sum_of_Rev Perc_Rev\n",
       "Time Zone                                                    \n",
       "TIME_0000_0600           5144      7.99%   655313.18    7.79%\n",
       "TIME_0601_1200          18731     29.11%  2434319.39   28.95%\n",
       "TIME_1200_1800          22170     34.45%  2923658.12   34.77%\n",
       "TIME_1801_2359          18307     28.45%  2394328.53   28.48%"
      ]
     },
     "execution_count": 25,
     "metadata": {},
     "output_type": "execute_result"
    }
   ],
   "source": [
    "temp8 = df[['TIME_0000_0600_ORDERS',\n",
    "       'TIME_0601_1200_ORDERS', 'TIME_1200_1800_ORDERS',\n",
    "       'TIME_1801_2359_ORDERS', 'TIME_0000_0600_REVENUE',\n",
    "       'TIME_0601_1200_REVENUE', 'TIME_1200_1800_REVENUE',\n",
    "       'TIME_1801_2359_REVENUE']]\n",
    "\n",
    "temp8_df = pd.DataFrame([[0,1,2,3], [0,1,3], [0,1,2], [0,1,2]], index = [\"TIME_0000_0600\", \"TIME_0601_1200\", \"TIME_1200_1800\", \"TIME_1801_2359\"])\n",
    "temp8_df.index.name = \"Time Zone\"\n",
    "temp8_df.columns = [\"Sum_of_Orders\", \"Perc_Order\", \"Sum_of_Rev\", \"Perc_Rev\"]\n",
    "\n",
    "temp8_df.at[\"TIME_0000_0600\", \"Sum_of_Orders\"] = temp8[\"TIME_0000_0600_ORDERS\"].sum()\n",
    "temp8_df.at[\"TIME_0601_1200\", \"Sum_of_Orders\"] = temp8[\"TIME_0601_1200_ORDERS\"].sum()\n",
    "temp8_df.at[\"TIME_1200_1800\", \"Sum_of_Orders\"] = temp8[\"TIME_1200_1800_ORDERS\"].sum()\n",
    "temp8_df.at[\"TIME_1801_2359\", \"Sum_of_Orders\"] = temp8[\"TIME_1801_2359_ORDERS\"].sum()\n",
    "\n",
    "temp8_df[\"Perc_Order\"] = temp8_df[\"Sum_of_Orders\"].apply(ord_perc)\n",
    "\n",
    "temp8_df.at[\"TIME_0000_0600\", \"Sum_of_Rev\"] = temp8[\"TIME_0000_0600_REVENUE\"].sum()\n",
    "temp8_df.at[\"TIME_0601_1200\", \"Sum_of_Rev\"] = temp8[\"TIME_0601_1200_REVENUE\"].sum()\n",
    "temp8_df.at[\"TIME_1200_1800\", \"Sum_of_Rev\"] = temp8[\"TIME_1200_1800_REVENUE\"].sum()\n",
    "temp8_df.at[\"TIME_1801_2359\", \"Sum_of_Rev\"] = temp8[\"TIME_1801_2359_REVENUE\"].sum()\n",
    "\n",
    "temp8_df[\"Perc_Rev\"] = temp8_df[\"Sum_of_Rev\"].apply(func2)\n",
    "\n",
    "temp8_df"
   ]
  },
  {
   "cell_type": "markdown",
   "metadata": {
    "id": "JesWPuvE5dHa"
   },
   "source": [
    "**Observations**\n",
    "1. From the above table its understood that there are more orders are placed and revenue generated between 1200 to 1800 hour. And its very low during 0000 to 0600 hour, because its from midnight to early morning"
   ]
  }
 ],
 "metadata": {
  "colab": {
   "collapsed_sections": [
    "zYA7UbEh6BO6",
    "SyjQltTO6Om6",
    "8_Nc8Vwm0_gl",
    "3Hj5VWn21Zb8",
    "YGAbhzob1r3R",
    "spoqTTfx54KB",
    "AwcwX9LJ9Exp",
    "Jp4SYGaIAoom",
    "-gccPrIEAynH",
    "vYPrj9czBKMB",
    "wAEtuS8KBS8F",
    "63C57UEYIivX",
    "RjalaOksIypM",
    "-4ko4JCtRhkw"
   ],
   "name": "Exploratory_Data_Analysis_E_Kart.ipynb",
   "provenance": []
  },
  "kernelspec": {
   "display_name": "Python 3 (ipykernel)",
   "language": "python",
   "name": "python3"
  },
  "language_info": {
   "codemirror_mode": {
    "name": "ipython",
    "version": 3
   },
   "file_extension": ".py",
   "mimetype": "text/x-python",
   "name": "python",
   "nbconvert_exporter": "python",
   "pygments_lexer": "ipython3",
   "version": "3.9.7"
  }
 },
 "nbformat": 4,
 "nbformat_minor": 1
}
